{
 "cells": [
  {
   "cell_type": "code",
   "execution_count": 118,
   "metadata": {
    "_cell_guid": "b1076dfc-b9ad-4769-8c92-a6c4dae69d19",
    "_uuid": "8f2839f25d086af736a60e9eeb907d3b93b6e0e5",
    "execution": {
     "iopub.execute_input": "2020-12-20T00:59:06.548650Z",
     "iopub.status.busy": "2020-12-20T00:59:06.547912Z",
     "iopub.status.idle": "2020-12-20T00:59:07.709454Z",
     "shell.execute_reply": "2020-12-20T00:59:07.708807Z"
    },
    "papermill": {
     "duration": 1.211139,
     "end_time": "2020-12-20T00:59:07.709569",
     "exception": false,
     "start_time": "2020-12-20T00:59:06.498430",
     "status": "completed"
    },
    "tags": []
   },
   "outputs": [],
   "source": [
    "import numpy as np\n",
    "import pandas as pd\n",
    "import matplotlib.pyplot as plt\n",
    "import seaborn as sns\n",
    "from warnings import simplefilter\n",
    "simplefilter(action='ignore', category=FutureWarning)"
   ]
  },
  {
   "cell_type": "markdown",
   "metadata": {
    "papermill": {
     "duration": 0.043708,
     "end_time": "2020-12-20T00:59:07.796232",
     "exception": false,
     "start_time": "2020-12-20T00:59:07.752524",
     "status": "completed"
    },
    "tags": []
   },
   "source": [
    "# Load the dataset"
   ]
  },
  {
   "cell_type": "code",
   "execution_count": 119,
   "metadata": {
    "execution": {
     "iopub.execute_input": "2020-12-20T00:59:07.894823Z",
     "iopub.status.busy": "2020-12-20T00:59:07.894110Z",
     "iopub.status.idle": "2020-12-20T00:59:07.918332Z",
     "shell.execute_reply": "2020-12-20T00:59:07.917615Z"
    },
    "papermill": {
     "duration": 0.078411,
     "end_time": "2020-12-20T00:59:07.918451",
     "exception": false,
     "start_time": "2020-12-20T00:59:07.840040",
     "status": "completed"
    },
    "tags": []
   },
   "outputs": [],
   "source": [
    "# https://www.kaggle.com/iabhishekofficial/mobile-price-classification\n",
    "\n",
    "df = pd.read_csv('csv/train.csv')"
   ]
  },
  {
   "cell_type": "code",
   "execution_count": 120,
   "metadata": {
    "execution": {
     "iopub.execute_input": "2020-12-20T00:59:08.015003Z",
     "iopub.status.busy": "2020-12-20T00:59:08.014087Z",
     "iopub.status.idle": "2020-12-20T00:59:08.018327Z",
     "shell.execute_reply": "2020-12-20T00:59:08.018882Z"
    },
    "papermill": {
     "duration": 0.056558,
     "end_time": "2020-12-20T00:59:08.019037",
     "exception": false,
     "start_time": "2020-12-20T00:59:07.962479",
     "status": "completed"
    },
    "tags": []
   },
   "outputs": [
    {
     "data": {
      "text/plain": [
       "(2000, 21)"
      ]
     },
     "execution_count": 120,
     "metadata": {},
     "output_type": "execute_result"
    }
   ],
   "source": [
    "df.shape"
   ]
  },
  {
   "cell_type": "code",
   "execution_count": 121,
   "metadata": {
    "execution": {
     "iopub.execute_input": "2020-12-20T00:59:08.133883Z",
     "iopub.status.busy": "2020-12-20T00:59:08.132782Z",
     "iopub.status.idle": "2020-12-20T00:59:08.151113Z",
     "shell.execute_reply": "2020-12-20T00:59:08.150528Z"
    },
    "papermill": {
     "duration": 0.085575,
     "end_time": "2020-12-20T00:59:08.151235",
     "exception": false,
     "start_time": "2020-12-20T00:59:08.065660",
     "status": "completed"
    },
    "tags": []
   },
   "outputs": [
    {
     "data": {
      "text/html": [
       "<div>\n",
       "<style scoped>\n",
       "    .dataframe tbody tr th:only-of-type {\n",
       "        vertical-align: middle;\n",
       "    }\n",
       "\n",
       "    .dataframe tbody tr th {\n",
       "        vertical-align: top;\n",
       "    }\n",
       "\n",
       "    .dataframe thead th {\n",
       "        text-align: right;\n",
       "    }\n",
       "</style>\n",
       "<table border=\"1\" class=\"dataframe\">\n",
       "  <thead>\n",
       "    <tr style=\"text-align: right;\">\n",
       "      <th></th>\n",
       "      <th>battery_power</th>\n",
       "      <th>blue</th>\n",
       "      <th>clock_speed</th>\n",
       "      <th>dual_sim</th>\n",
       "      <th>fc</th>\n",
       "      <th>four_g</th>\n",
       "      <th>int_memory</th>\n",
       "      <th>m_dep</th>\n",
       "      <th>mobile_wt</th>\n",
       "      <th>n_cores</th>\n",
       "      <th>...</th>\n",
       "      <th>px_height</th>\n",
       "      <th>px_width</th>\n",
       "      <th>ram</th>\n",
       "      <th>sc_h</th>\n",
       "      <th>sc_w</th>\n",
       "      <th>talk_time</th>\n",
       "      <th>three_g</th>\n",
       "      <th>touch_screen</th>\n",
       "      <th>wifi</th>\n",
       "      <th>price_range</th>\n",
       "    </tr>\n",
       "  </thead>\n",
       "  <tbody>\n",
       "    <tr>\n",
       "      <th>0</th>\n",
       "      <td>842</td>\n",
       "      <td>0</td>\n",
       "      <td>2.2</td>\n",
       "      <td>0</td>\n",
       "      <td>1</td>\n",
       "      <td>0</td>\n",
       "      <td>7</td>\n",
       "      <td>0.6</td>\n",
       "      <td>188</td>\n",
       "      <td>2</td>\n",
       "      <td>...</td>\n",
       "      <td>20</td>\n",
       "      <td>756</td>\n",
       "      <td>2549</td>\n",
       "      <td>9</td>\n",
       "      <td>7</td>\n",
       "      <td>19</td>\n",
       "      <td>0</td>\n",
       "      <td>0</td>\n",
       "      <td>1</td>\n",
       "      <td>1</td>\n",
       "    </tr>\n",
       "    <tr>\n",
       "      <th>1</th>\n",
       "      <td>1021</td>\n",
       "      <td>1</td>\n",
       "      <td>0.5</td>\n",
       "      <td>1</td>\n",
       "      <td>0</td>\n",
       "      <td>1</td>\n",
       "      <td>53</td>\n",
       "      <td>0.7</td>\n",
       "      <td>136</td>\n",
       "      <td>3</td>\n",
       "      <td>...</td>\n",
       "      <td>905</td>\n",
       "      <td>1988</td>\n",
       "      <td>2631</td>\n",
       "      <td>17</td>\n",
       "      <td>3</td>\n",
       "      <td>7</td>\n",
       "      <td>1</td>\n",
       "      <td>1</td>\n",
       "      <td>0</td>\n",
       "      <td>2</td>\n",
       "    </tr>\n",
       "    <tr>\n",
       "      <th>2</th>\n",
       "      <td>563</td>\n",
       "      <td>1</td>\n",
       "      <td>0.5</td>\n",
       "      <td>1</td>\n",
       "      <td>2</td>\n",
       "      <td>1</td>\n",
       "      <td>41</td>\n",
       "      <td>0.9</td>\n",
       "      <td>145</td>\n",
       "      <td>5</td>\n",
       "      <td>...</td>\n",
       "      <td>1263</td>\n",
       "      <td>1716</td>\n",
       "      <td>2603</td>\n",
       "      <td>11</td>\n",
       "      <td>2</td>\n",
       "      <td>9</td>\n",
       "      <td>1</td>\n",
       "      <td>1</td>\n",
       "      <td>0</td>\n",
       "      <td>2</td>\n",
       "    </tr>\n",
       "    <tr>\n",
       "      <th>3</th>\n",
       "      <td>615</td>\n",
       "      <td>1</td>\n",
       "      <td>2.5</td>\n",
       "      <td>0</td>\n",
       "      <td>0</td>\n",
       "      <td>0</td>\n",
       "      <td>10</td>\n",
       "      <td>0.8</td>\n",
       "      <td>131</td>\n",
       "      <td>6</td>\n",
       "      <td>...</td>\n",
       "      <td>1216</td>\n",
       "      <td>1786</td>\n",
       "      <td>2769</td>\n",
       "      <td>16</td>\n",
       "      <td>8</td>\n",
       "      <td>11</td>\n",
       "      <td>1</td>\n",
       "      <td>0</td>\n",
       "      <td>0</td>\n",
       "      <td>2</td>\n",
       "    </tr>\n",
       "    <tr>\n",
       "      <th>4</th>\n",
       "      <td>1821</td>\n",
       "      <td>1</td>\n",
       "      <td>1.2</td>\n",
       "      <td>0</td>\n",
       "      <td>13</td>\n",
       "      <td>1</td>\n",
       "      <td>44</td>\n",
       "      <td>0.6</td>\n",
       "      <td>141</td>\n",
       "      <td>2</td>\n",
       "      <td>...</td>\n",
       "      <td>1208</td>\n",
       "      <td>1212</td>\n",
       "      <td>1411</td>\n",
       "      <td>8</td>\n",
       "      <td>2</td>\n",
       "      <td>15</td>\n",
       "      <td>1</td>\n",
       "      <td>1</td>\n",
       "      <td>0</td>\n",
       "      <td>1</td>\n",
       "    </tr>\n",
       "  </tbody>\n",
       "</table>\n",
       "<p>5 rows × 21 columns</p>\n",
       "</div>"
      ],
      "text/plain": [
       "   battery_power  blue  clock_speed  dual_sim  fc  four_g  int_memory  m_dep  \\\n",
       "0            842     0          2.2         0   1       0           7    0.6   \n",
       "1           1021     1          0.5         1   0       1          53    0.7   \n",
       "2            563     1          0.5         1   2       1          41    0.9   \n",
       "3            615     1          2.5         0   0       0          10    0.8   \n",
       "4           1821     1          1.2         0  13       1          44    0.6   \n",
       "\n",
       "   mobile_wt  n_cores  ...  px_height  px_width   ram  sc_h  sc_w  talk_time  \\\n",
       "0        188        2  ...         20       756  2549     9     7         19   \n",
       "1        136        3  ...        905      1988  2631    17     3          7   \n",
       "2        145        5  ...       1263      1716  2603    11     2          9   \n",
       "3        131        6  ...       1216      1786  2769    16     8         11   \n",
       "4        141        2  ...       1208      1212  1411     8     2         15   \n",
       "\n",
       "   three_g  touch_screen  wifi  price_range  \n",
       "0        0             0     1            1  \n",
       "1        1             1     0            2  \n",
       "2        1             1     0            2  \n",
       "3        1             0     0            2  \n",
       "4        1             1     0            1  \n",
       "\n",
       "[5 rows x 21 columns]"
      ]
     },
     "execution_count": 121,
     "metadata": {},
     "output_type": "execute_result"
    }
   ],
   "source": [
    "df.head()"
   ]
  },
  {
   "cell_type": "code",
   "execution_count": 122,
   "metadata": {
    "execution": {
     "iopub.execute_input": "2020-12-20T00:59:08.247212Z",
     "iopub.status.busy": "2020-12-20T00:59:08.246387Z",
     "iopub.status.idle": "2020-12-20T00:59:08.250485Z",
     "shell.execute_reply": "2020-12-20T00:59:08.249845Z"
    },
    "papermill": {
     "duration": 0.055159,
     "end_time": "2020-12-20T00:59:08.250618",
     "exception": false,
     "start_time": "2020-12-20T00:59:08.195459",
     "status": "completed"
    },
    "tags": []
   },
   "outputs": [
    {
     "data": {
      "text/plain": [
       "False"
      ]
     },
     "execution_count": 122,
     "metadata": {},
     "output_type": "execute_result"
    }
   ],
   "source": [
    "# check for null values\n",
    "\n",
    "df.isnull().any().any()"
   ]
  },
  {
   "cell_type": "code",
   "execution_count": 123,
   "metadata": {
    "execution": {
     "iopub.execute_input": "2020-12-20T00:59:08.345712Z",
     "iopub.status.busy": "2020-12-20T00:59:08.344882Z",
     "iopub.status.idle": "2020-12-20T00:59:08.349297Z",
     "shell.execute_reply": "2020-12-20T00:59:08.348538Z"
    },
    "papermill": {
     "duration": 0.054446,
     "end_time": "2020-12-20T00:59:08.349453",
     "exception": false,
     "start_time": "2020-12-20T00:59:08.295007",
     "status": "completed"
    },
    "tags": []
   },
   "outputs": [
    {
     "name": "stdout",
     "output_type": "stream",
     "text": [
      "['battery_power', 'blue', 'clock_speed', 'dual_sim', 'fc', 'four_g', 'int_memory', 'm_dep', 'mobile_wt', 'n_cores', 'pc', 'px_height', 'px_width', 'ram', 'sc_h', 'sc_w', 'talk_time', 'three_g', 'touch_screen', 'wifi', 'price_range']\n"
     ]
    }
   ],
   "source": [
    "print(list(df.columns))"
   ]
  },
  {
   "cell_type": "markdown",
   "metadata": {
    "papermill": {
     "duration": 0.044491,
     "end_time": "2020-12-20T00:59:08.439557",
     "exception": false,
     "start_time": "2020-12-20T00:59:08.395066",
     "status": "completed"
    },
    "tags": []
   },
   "source": [
    "# Feature Description\n",
    "\n",
    "## Categorical Variables\n",
    "\n",
    "1. blue - Has bluetooth or not\n",
    "2. dual_sim - Has dual sim support or not\n",
    "3. four_g - Has 4G or not\n",
    "4. n_cores - Number of cores of processor\n",
    "5. three_g - Has 3G or not\n",
    "6. touch_screen - Has touch screen or not\n",
    "7. wifi - Has wifi or not\n",
    "8. price_range - This is the target variable with value of 0(low cost), 1(medium cost), 2(high cost) and 3(very high cost).\n",
    "\n",
    "\n",
    "## Numerical Variables\n",
    "\n",
    "1. battery_power - Total energy a battery can store in one time measured in mAh \n",
    "2. clock_speed - Speed at which microprocessor executes instructions\n",
    "3. fc - Front camera mega pixels\n",
    "4. int_memory - Internal Memory in Gigabytes\n",
    "5. m_dep - Mobile depth in cm\n",
    "6. mobile_wt - Weight of mobile phone\n",
    "7. pc - Primary Camera mega pixels\n",
    "8. px_height - Pixel Resolution Height\n",
    "9. px_width - Pixel Resolution Width\n",
    "10. ram - Random Access Memory in Mega Bytes\n",
    "11. sc_h - Screen Height of mobile in cm\n",
    "12. sc_w - Screen Width of mobile in cm\n",
    "13. talk_time - longest time that a single battery charge will last when you are"
   ]
  },
  {
   "cell_type": "markdown",
   "metadata": {
    "papermill": {
     "duration": 0.044759,
     "end_time": "2020-12-20T00:59:08.529999",
     "exception": false,
     "start_time": "2020-12-20T00:59:08.485240",
     "status": "completed"
    },
    "tags": []
   },
   "source": [
    "# Exploratory Data Analysis"
   ]
  },
  {
   "cell_type": "markdown",
   "metadata": {
    "papermill": {
     "duration": 0.046378,
     "end_time": "2020-12-20T00:59:08.621778",
     "exception": false,
     "start_time": "2020-12-20T00:59:08.575400",
     "status": "completed"
    },
    "tags": []
   },
   "source": [
    "## Lets see first the correlation of independent variables to target variable"
   ]
  },
  {
   "cell_type": "code",
   "execution_count": 124,
   "metadata": {
    "execution": {
     "iopub.execute_input": "2020-12-20T00:59:08.719188Z",
     "iopub.status.busy": "2020-12-20T00:59:08.715802Z",
     "iopub.status.idle": "2020-12-20T00:59:08.758080Z",
     "shell.execute_reply": "2020-12-20T00:59:08.757447Z"
    },
    "papermill": {
     "duration": 0.091494,
     "end_time": "2020-12-20T00:59:08.758208",
     "exception": false,
     "start_time": "2020-12-20T00:59:08.666714",
     "status": "completed"
    },
    "scrolled": false,
    "tags": []
   },
   "outputs": [
    {
     "data": {
      "text/html": [
       "<div>\n",
       "<style scoped>\n",
       "    .dataframe tbody tr th:only-of-type {\n",
       "        vertical-align: middle;\n",
       "    }\n",
       "\n",
       "    .dataframe tbody tr th {\n",
       "        vertical-align: top;\n",
       "    }\n",
       "\n",
       "    .dataframe thead th {\n",
       "        text-align: right;\n",
       "    }\n",
       "</style>\n",
       "<table border=\"1\" class=\"dataframe\">\n",
       "  <thead>\n",
       "    <tr style=\"text-align: right;\">\n",
       "      <th></th>\n",
       "      <th>battery_power</th>\n",
       "      <th>blue</th>\n",
       "      <th>clock_speed</th>\n",
       "      <th>dual_sim</th>\n",
       "      <th>fc</th>\n",
       "      <th>four_g</th>\n",
       "      <th>int_memory</th>\n",
       "      <th>m_dep</th>\n",
       "      <th>mobile_wt</th>\n",
       "      <th>n_cores</th>\n",
       "      <th>...</th>\n",
       "      <th>px_height</th>\n",
       "      <th>px_width</th>\n",
       "      <th>ram</th>\n",
       "      <th>sc_h</th>\n",
       "      <th>sc_w</th>\n",
       "      <th>talk_time</th>\n",
       "      <th>three_g</th>\n",
       "      <th>touch_screen</th>\n",
       "      <th>wifi</th>\n",
       "      <th>price_range</th>\n",
       "    </tr>\n",
       "  </thead>\n",
       "  <tbody>\n",
       "    <tr>\n",
       "      <th>battery_power</th>\n",
       "      <td>1.000000</td>\n",
       "      <td>0.011252</td>\n",
       "      <td>0.011482</td>\n",
       "      <td>-0.041847</td>\n",
       "      <td>0.033334</td>\n",
       "      <td>0.015665</td>\n",
       "      <td>-0.004004</td>\n",
       "      <td>0.034085</td>\n",
       "      <td>0.001844</td>\n",
       "      <td>-0.029727</td>\n",
       "      <td>...</td>\n",
       "      <td>0.014901</td>\n",
       "      <td>-0.008402</td>\n",
       "      <td>-0.000653</td>\n",
       "      <td>-0.029959</td>\n",
       "      <td>-0.021421</td>\n",
       "      <td>0.052510</td>\n",
       "      <td>0.011522</td>\n",
       "      <td>-0.010516</td>\n",
       "      <td>-0.008343</td>\n",
       "      <td>0.200723</td>\n",
       "    </tr>\n",
       "    <tr>\n",
       "      <th>blue</th>\n",
       "      <td>0.011252</td>\n",
       "      <td>1.000000</td>\n",
       "      <td>0.021419</td>\n",
       "      <td>0.035198</td>\n",
       "      <td>0.003593</td>\n",
       "      <td>0.013443</td>\n",
       "      <td>0.041177</td>\n",
       "      <td>0.004049</td>\n",
       "      <td>-0.008605</td>\n",
       "      <td>0.036161</td>\n",
       "      <td>...</td>\n",
       "      <td>-0.006872</td>\n",
       "      <td>-0.041533</td>\n",
       "      <td>0.026351</td>\n",
       "      <td>-0.002952</td>\n",
       "      <td>0.000613</td>\n",
       "      <td>0.013934</td>\n",
       "      <td>-0.030236</td>\n",
       "      <td>0.010061</td>\n",
       "      <td>-0.021863</td>\n",
       "      <td>0.020573</td>\n",
       "    </tr>\n",
       "    <tr>\n",
       "      <th>clock_speed</th>\n",
       "      <td>0.011482</td>\n",
       "      <td>0.021419</td>\n",
       "      <td>1.000000</td>\n",
       "      <td>-0.001315</td>\n",
       "      <td>-0.000434</td>\n",
       "      <td>-0.043073</td>\n",
       "      <td>0.006545</td>\n",
       "      <td>-0.014364</td>\n",
       "      <td>0.012350</td>\n",
       "      <td>-0.005724</td>\n",
       "      <td>...</td>\n",
       "      <td>-0.014523</td>\n",
       "      <td>-0.009476</td>\n",
       "      <td>0.003443</td>\n",
       "      <td>-0.029078</td>\n",
       "      <td>-0.007378</td>\n",
       "      <td>-0.011432</td>\n",
       "      <td>-0.046433</td>\n",
       "      <td>0.019756</td>\n",
       "      <td>-0.024471</td>\n",
       "      <td>-0.006606</td>\n",
       "    </tr>\n",
       "    <tr>\n",
       "      <th>dual_sim</th>\n",
       "      <td>-0.041847</td>\n",
       "      <td>0.035198</td>\n",
       "      <td>-0.001315</td>\n",
       "      <td>1.000000</td>\n",
       "      <td>-0.029123</td>\n",
       "      <td>0.003187</td>\n",
       "      <td>-0.015679</td>\n",
       "      <td>-0.022142</td>\n",
       "      <td>-0.008979</td>\n",
       "      <td>-0.024658</td>\n",
       "      <td>...</td>\n",
       "      <td>-0.020875</td>\n",
       "      <td>0.014291</td>\n",
       "      <td>0.041072</td>\n",
       "      <td>-0.011949</td>\n",
       "      <td>-0.016666</td>\n",
       "      <td>-0.039404</td>\n",
       "      <td>-0.014008</td>\n",
       "      <td>-0.017117</td>\n",
       "      <td>0.022740</td>\n",
       "      <td>0.017444</td>\n",
       "    </tr>\n",
       "    <tr>\n",
       "      <th>fc</th>\n",
       "      <td>0.033334</td>\n",
       "      <td>0.003593</td>\n",
       "      <td>-0.000434</td>\n",
       "      <td>-0.029123</td>\n",
       "      <td>1.000000</td>\n",
       "      <td>-0.016560</td>\n",
       "      <td>-0.029133</td>\n",
       "      <td>-0.001791</td>\n",
       "      <td>0.023618</td>\n",
       "      <td>-0.013356</td>\n",
       "      <td>...</td>\n",
       "      <td>-0.009990</td>\n",
       "      <td>-0.005176</td>\n",
       "      <td>0.015099</td>\n",
       "      <td>-0.011014</td>\n",
       "      <td>-0.012373</td>\n",
       "      <td>-0.006829</td>\n",
       "      <td>0.001793</td>\n",
       "      <td>-0.014828</td>\n",
       "      <td>0.020085</td>\n",
       "      <td>0.021998</td>\n",
       "    </tr>\n",
       "    <tr>\n",
       "      <th>four_g</th>\n",
       "      <td>0.015665</td>\n",
       "      <td>0.013443</td>\n",
       "      <td>-0.043073</td>\n",
       "      <td>0.003187</td>\n",
       "      <td>-0.016560</td>\n",
       "      <td>1.000000</td>\n",
       "      <td>0.008690</td>\n",
       "      <td>-0.001823</td>\n",
       "      <td>-0.016537</td>\n",
       "      <td>-0.029706</td>\n",
       "      <td>...</td>\n",
       "      <td>-0.019236</td>\n",
       "      <td>0.007448</td>\n",
       "      <td>0.007313</td>\n",
       "      <td>0.027166</td>\n",
       "      <td>0.037005</td>\n",
       "      <td>-0.046628</td>\n",
       "      <td>0.584246</td>\n",
       "      <td>0.016758</td>\n",
       "      <td>-0.017620</td>\n",
       "      <td>0.014772</td>\n",
       "    </tr>\n",
       "    <tr>\n",
       "      <th>int_memory</th>\n",
       "      <td>-0.004004</td>\n",
       "      <td>0.041177</td>\n",
       "      <td>0.006545</td>\n",
       "      <td>-0.015679</td>\n",
       "      <td>-0.029133</td>\n",
       "      <td>0.008690</td>\n",
       "      <td>1.000000</td>\n",
       "      <td>0.006886</td>\n",
       "      <td>-0.034214</td>\n",
       "      <td>-0.028310</td>\n",
       "      <td>...</td>\n",
       "      <td>0.010441</td>\n",
       "      <td>-0.008335</td>\n",
       "      <td>0.032813</td>\n",
       "      <td>0.037771</td>\n",
       "      <td>0.011731</td>\n",
       "      <td>-0.002790</td>\n",
       "      <td>-0.009366</td>\n",
       "      <td>-0.026999</td>\n",
       "      <td>0.006993</td>\n",
       "      <td>0.044435</td>\n",
       "    </tr>\n",
       "    <tr>\n",
       "      <th>m_dep</th>\n",
       "      <td>0.034085</td>\n",
       "      <td>0.004049</td>\n",
       "      <td>-0.014364</td>\n",
       "      <td>-0.022142</td>\n",
       "      <td>-0.001791</td>\n",
       "      <td>-0.001823</td>\n",
       "      <td>0.006886</td>\n",
       "      <td>1.000000</td>\n",
       "      <td>0.021756</td>\n",
       "      <td>-0.003504</td>\n",
       "      <td>...</td>\n",
       "      <td>0.025263</td>\n",
       "      <td>0.023566</td>\n",
       "      <td>-0.009434</td>\n",
       "      <td>-0.025348</td>\n",
       "      <td>-0.018388</td>\n",
       "      <td>0.017003</td>\n",
       "      <td>-0.012065</td>\n",
       "      <td>-0.002638</td>\n",
       "      <td>-0.028353</td>\n",
       "      <td>0.000853</td>\n",
       "    </tr>\n",
       "    <tr>\n",
       "      <th>mobile_wt</th>\n",
       "      <td>0.001844</td>\n",
       "      <td>-0.008605</td>\n",
       "      <td>0.012350</td>\n",
       "      <td>-0.008979</td>\n",
       "      <td>0.023618</td>\n",
       "      <td>-0.016537</td>\n",
       "      <td>-0.034214</td>\n",
       "      <td>0.021756</td>\n",
       "      <td>1.000000</td>\n",
       "      <td>-0.018989</td>\n",
       "      <td>...</td>\n",
       "      <td>0.000939</td>\n",
       "      <td>0.000090</td>\n",
       "      <td>-0.002581</td>\n",
       "      <td>-0.033855</td>\n",
       "      <td>-0.020761</td>\n",
       "      <td>0.006209</td>\n",
       "      <td>0.001551</td>\n",
       "      <td>-0.014368</td>\n",
       "      <td>-0.000409</td>\n",
       "      <td>-0.030302</td>\n",
       "    </tr>\n",
       "    <tr>\n",
       "      <th>n_cores</th>\n",
       "      <td>-0.029727</td>\n",
       "      <td>0.036161</td>\n",
       "      <td>-0.005724</td>\n",
       "      <td>-0.024658</td>\n",
       "      <td>-0.013356</td>\n",
       "      <td>-0.029706</td>\n",
       "      <td>-0.028310</td>\n",
       "      <td>-0.003504</td>\n",
       "      <td>-0.018989</td>\n",
       "      <td>1.000000</td>\n",
       "      <td>...</td>\n",
       "      <td>-0.006872</td>\n",
       "      <td>0.024480</td>\n",
       "      <td>0.004868</td>\n",
       "      <td>-0.000315</td>\n",
       "      <td>0.025826</td>\n",
       "      <td>0.013148</td>\n",
       "      <td>-0.014733</td>\n",
       "      <td>0.023774</td>\n",
       "      <td>-0.009964</td>\n",
       "      <td>0.004399</td>\n",
       "    </tr>\n",
       "    <tr>\n",
       "      <th>pc</th>\n",
       "      <td>0.031441</td>\n",
       "      <td>-0.009952</td>\n",
       "      <td>-0.005245</td>\n",
       "      <td>-0.017143</td>\n",
       "      <td>0.644595</td>\n",
       "      <td>-0.005598</td>\n",
       "      <td>-0.033273</td>\n",
       "      <td>0.026282</td>\n",
       "      <td>0.018844</td>\n",
       "      <td>-0.001193</td>\n",
       "      <td>...</td>\n",
       "      <td>-0.018465</td>\n",
       "      <td>0.004196</td>\n",
       "      <td>0.028984</td>\n",
       "      <td>0.004938</td>\n",
       "      <td>-0.023819</td>\n",
       "      <td>0.014657</td>\n",
       "      <td>-0.001322</td>\n",
       "      <td>-0.008742</td>\n",
       "      <td>0.005389</td>\n",
       "      <td>0.033599</td>\n",
       "    </tr>\n",
       "    <tr>\n",
       "      <th>px_height</th>\n",
       "      <td>0.014901</td>\n",
       "      <td>-0.006872</td>\n",
       "      <td>-0.014523</td>\n",
       "      <td>-0.020875</td>\n",
       "      <td>-0.009990</td>\n",
       "      <td>-0.019236</td>\n",
       "      <td>0.010441</td>\n",
       "      <td>0.025263</td>\n",
       "      <td>0.000939</td>\n",
       "      <td>-0.006872</td>\n",
       "      <td>...</td>\n",
       "      <td>1.000000</td>\n",
       "      <td>0.510664</td>\n",
       "      <td>-0.020352</td>\n",
       "      <td>0.059615</td>\n",
       "      <td>0.043038</td>\n",
       "      <td>-0.010645</td>\n",
       "      <td>-0.031174</td>\n",
       "      <td>0.021891</td>\n",
       "      <td>0.051824</td>\n",
       "      <td>0.148858</td>\n",
       "    </tr>\n",
       "    <tr>\n",
       "      <th>px_width</th>\n",
       "      <td>-0.008402</td>\n",
       "      <td>-0.041533</td>\n",
       "      <td>-0.009476</td>\n",
       "      <td>0.014291</td>\n",
       "      <td>-0.005176</td>\n",
       "      <td>0.007448</td>\n",
       "      <td>-0.008335</td>\n",
       "      <td>0.023566</td>\n",
       "      <td>0.000090</td>\n",
       "      <td>0.024480</td>\n",
       "      <td>...</td>\n",
       "      <td>0.510664</td>\n",
       "      <td>1.000000</td>\n",
       "      <td>0.004105</td>\n",
       "      <td>0.021599</td>\n",
       "      <td>0.034699</td>\n",
       "      <td>0.006720</td>\n",
       "      <td>0.000350</td>\n",
       "      <td>-0.001628</td>\n",
       "      <td>0.030319</td>\n",
       "      <td>0.165818</td>\n",
       "    </tr>\n",
       "    <tr>\n",
       "      <th>ram</th>\n",
       "      <td>-0.000653</td>\n",
       "      <td>0.026351</td>\n",
       "      <td>0.003443</td>\n",
       "      <td>0.041072</td>\n",
       "      <td>0.015099</td>\n",
       "      <td>0.007313</td>\n",
       "      <td>0.032813</td>\n",
       "      <td>-0.009434</td>\n",
       "      <td>-0.002581</td>\n",
       "      <td>0.004868</td>\n",
       "      <td>...</td>\n",
       "      <td>-0.020352</td>\n",
       "      <td>0.004105</td>\n",
       "      <td>1.000000</td>\n",
       "      <td>0.015996</td>\n",
       "      <td>0.035576</td>\n",
       "      <td>0.010820</td>\n",
       "      <td>0.015795</td>\n",
       "      <td>-0.030455</td>\n",
       "      <td>0.022669</td>\n",
       "      <td>0.917046</td>\n",
       "    </tr>\n",
       "    <tr>\n",
       "      <th>sc_h</th>\n",
       "      <td>-0.029959</td>\n",
       "      <td>-0.002952</td>\n",
       "      <td>-0.029078</td>\n",
       "      <td>-0.011949</td>\n",
       "      <td>-0.011014</td>\n",
       "      <td>0.027166</td>\n",
       "      <td>0.037771</td>\n",
       "      <td>-0.025348</td>\n",
       "      <td>-0.033855</td>\n",
       "      <td>-0.000315</td>\n",
       "      <td>...</td>\n",
       "      <td>0.059615</td>\n",
       "      <td>0.021599</td>\n",
       "      <td>0.015996</td>\n",
       "      <td>1.000000</td>\n",
       "      <td>0.506144</td>\n",
       "      <td>-0.017335</td>\n",
       "      <td>0.012033</td>\n",
       "      <td>-0.020023</td>\n",
       "      <td>0.025929</td>\n",
       "      <td>0.022986</td>\n",
       "    </tr>\n",
       "    <tr>\n",
       "      <th>sc_w</th>\n",
       "      <td>-0.021421</td>\n",
       "      <td>0.000613</td>\n",
       "      <td>-0.007378</td>\n",
       "      <td>-0.016666</td>\n",
       "      <td>-0.012373</td>\n",
       "      <td>0.037005</td>\n",
       "      <td>0.011731</td>\n",
       "      <td>-0.018388</td>\n",
       "      <td>-0.020761</td>\n",
       "      <td>0.025826</td>\n",
       "      <td>...</td>\n",
       "      <td>0.043038</td>\n",
       "      <td>0.034699</td>\n",
       "      <td>0.035576</td>\n",
       "      <td>0.506144</td>\n",
       "      <td>1.000000</td>\n",
       "      <td>-0.022821</td>\n",
       "      <td>0.030941</td>\n",
       "      <td>0.012720</td>\n",
       "      <td>0.035423</td>\n",
       "      <td>0.038711</td>\n",
       "    </tr>\n",
       "    <tr>\n",
       "      <th>talk_time</th>\n",
       "      <td>0.052510</td>\n",
       "      <td>0.013934</td>\n",
       "      <td>-0.011432</td>\n",
       "      <td>-0.039404</td>\n",
       "      <td>-0.006829</td>\n",
       "      <td>-0.046628</td>\n",
       "      <td>-0.002790</td>\n",
       "      <td>0.017003</td>\n",
       "      <td>0.006209</td>\n",
       "      <td>0.013148</td>\n",
       "      <td>...</td>\n",
       "      <td>-0.010645</td>\n",
       "      <td>0.006720</td>\n",
       "      <td>0.010820</td>\n",
       "      <td>-0.017335</td>\n",
       "      <td>-0.022821</td>\n",
       "      <td>1.000000</td>\n",
       "      <td>-0.042688</td>\n",
       "      <td>0.017196</td>\n",
       "      <td>-0.029504</td>\n",
       "      <td>0.021859</td>\n",
       "    </tr>\n",
       "    <tr>\n",
       "      <th>three_g</th>\n",
       "      <td>0.011522</td>\n",
       "      <td>-0.030236</td>\n",
       "      <td>-0.046433</td>\n",
       "      <td>-0.014008</td>\n",
       "      <td>0.001793</td>\n",
       "      <td>0.584246</td>\n",
       "      <td>-0.009366</td>\n",
       "      <td>-0.012065</td>\n",
       "      <td>0.001551</td>\n",
       "      <td>-0.014733</td>\n",
       "      <td>...</td>\n",
       "      <td>-0.031174</td>\n",
       "      <td>0.000350</td>\n",
       "      <td>0.015795</td>\n",
       "      <td>0.012033</td>\n",
       "      <td>0.030941</td>\n",
       "      <td>-0.042688</td>\n",
       "      <td>1.000000</td>\n",
       "      <td>0.013917</td>\n",
       "      <td>0.004316</td>\n",
       "      <td>0.023611</td>\n",
       "    </tr>\n",
       "    <tr>\n",
       "      <th>touch_screen</th>\n",
       "      <td>-0.010516</td>\n",
       "      <td>0.010061</td>\n",
       "      <td>0.019756</td>\n",
       "      <td>-0.017117</td>\n",
       "      <td>-0.014828</td>\n",
       "      <td>0.016758</td>\n",
       "      <td>-0.026999</td>\n",
       "      <td>-0.002638</td>\n",
       "      <td>-0.014368</td>\n",
       "      <td>0.023774</td>\n",
       "      <td>...</td>\n",
       "      <td>0.021891</td>\n",
       "      <td>-0.001628</td>\n",
       "      <td>-0.030455</td>\n",
       "      <td>-0.020023</td>\n",
       "      <td>0.012720</td>\n",
       "      <td>0.017196</td>\n",
       "      <td>0.013917</td>\n",
       "      <td>1.000000</td>\n",
       "      <td>0.011917</td>\n",
       "      <td>-0.030411</td>\n",
       "    </tr>\n",
       "    <tr>\n",
       "      <th>wifi</th>\n",
       "      <td>-0.008343</td>\n",
       "      <td>-0.021863</td>\n",
       "      <td>-0.024471</td>\n",
       "      <td>0.022740</td>\n",
       "      <td>0.020085</td>\n",
       "      <td>-0.017620</td>\n",
       "      <td>0.006993</td>\n",
       "      <td>-0.028353</td>\n",
       "      <td>-0.000409</td>\n",
       "      <td>-0.009964</td>\n",
       "      <td>...</td>\n",
       "      <td>0.051824</td>\n",
       "      <td>0.030319</td>\n",
       "      <td>0.022669</td>\n",
       "      <td>0.025929</td>\n",
       "      <td>0.035423</td>\n",
       "      <td>-0.029504</td>\n",
       "      <td>0.004316</td>\n",
       "      <td>0.011917</td>\n",
       "      <td>1.000000</td>\n",
       "      <td>0.018785</td>\n",
       "    </tr>\n",
       "    <tr>\n",
       "      <th>price_range</th>\n",
       "      <td>0.200723</td>\n",
       "      <td>0.020573</td>\n",
       "      <td>-0.006606</td>\n",
       "      <td>0.017444</td>\n",
       "      <td>0.021998</td>\n",
       "      <td>0.014772</td>\n",
       "      <td>0.044435</td>\n",
       "      <td>0.000853</td>\n",
       "      <td>-0.030302</td>\n",
       "      <td>0.004399</td>\n",
       "      <td>...</td>\n",
       "      <td>0.148858</td>\n",
       "      <td>0.165818</td>\n",
       "      <td>0.917046</td>\n",
       "      <td>0.022986</td>\n",
       "      <td>0.038711</td>\n",
       "      <td>0.021859</td>\n",
       "      <td>0.023611</td>\n",
       "      <td>-0.030411</td>\n",
       "      <td>0.018785</td>\n",
       "      <td>1.000000</td>\n",
       "    </tr>\n",
       "  </tbody>\n",
       "</table>\n",
       "<p>21 rows × 21 columns</p>\n",
       "</div>"
      ],
      "text/plain": [
       "               battery_power      blue  clock_speed  dual_sim        fc  \\\n",
       "battery_power       1.000000  0.011252     0.011482 -0.041847  0.033334   \n",
       "blue                0.011252  1.000000     0.021419  0.035198  0.003593   \n",
       "clock_speed         0.011482  0.021419     1.000000 -0.001315 -0.000434   \n",
       "dual_sim           -0.041847  0.035198    -0.001315  1.000000 -0.029123   \n",
       "fc                  0.033334  0.003593    -0.000434 -0.029123  1.000000   \n",
       "four_g              0.015665  0.013443    -0.043073  0.003187 -0.016560   \n",
       "int_memory         -0.004004  0.041177     0.006545 -0.015679 -0.029133   \n",
       "m_dep               0.034085  0.004049    -0.014364 -0.022142 -0.001791   \n",
       "mobile_wt           0.001844 -0.008605     0.012350 -0.008979  0.023618   \n",
       "n_cores            -0.029727  0.036161    -0.005724 -0.024658 -0.013356   \n",
       "pc                  0.031441 -0.009952    -0.005245 -0.017143  0.644595   \n",
       "px_height           0.014901 -0.006872    -0.014523 -0.020875 -0.009990   \n",
       "px_width           -0.008402 -0.041533    -0.009476  0.014291 -0.005176   \n",
       "ram                -0.000653  0.026351     0.003443  0.041072  0.015099   \n",
       "sc_h               -0.029959 -0.002952    -0.029078 -0.011949 -0.011014   \n",
       "sc_w               -0.021421  0.000613    -0.007378 -0.016666 -0.012373   \n",
       "talk_time           0.052510  0.013934    -0.011432 -0.039404 -0.006829   \n",
       "three_g             0.011522 -0.030236    -0.046433 -0.014008  0.001793   \n",
       "touch_screen       -0.010516  0.010061     0.019756 -0.017117 -0.014828   \n",
       "wifi               -0.008343 -0.021863    -0.024471  0.022740  0.020085   \n",
       "price_range         0.200723  0.020573    -0.006606  0.017444  0.021998   \n",
       "\n",
       "                 four_g  int_memory     m_dep  mobile_wt   n_cores  ...  \\\n",
       "battery_power  0.015665   -0.004004  0.034085   0.001844 -0.029727  ...   \n",
       "blue           0.013443    0.041177  0.004049  -0.008605  0.036161  ...   \n",
       "clock_speed   -0.043073    0.006545 -0.014364   0.012350 -0.005724  ...   \n",
       "dual_sim       0.003187   -0.015679 -0.022142  -0.008979 -0.024658  ...   \n",
       "fc            -0.016560   -0.029133 -0.001791   0.023618 -0.013356  ...   \n",
       "four_g         1.000000    0.008690 -0.001823  -0.016537 -0.029706  ...   \n",
       "int_memory     0.008690    1.000000  0.006886  -0.034214 -0.028310  ...   \n",
       "m_dep         -0.001823    0.006886  1.000000   0.021756 -0.003504  ...   \n",
       "mobile_wt     -0.016537   -0.034214  0.021756   1.000000 -0.018989  ...   \n",
       "n_cores       -0.029706   -0.028310 -0.003504  -0.018989  1.000000  ...   \n",
       "pc            -0.005598   -0.033273  0.026282   0.018844 -0.001193  ...   \n",
       "px_height     -0.019236    0.010441  0.025263   0.000939 -0.006872  ...   \n",
       "px_width       0.007448   -0.008335  0.023566   0.000090  0.024480  ...   \n",
       "ram            0.007313    0.032813 -0.009434  -0.002581  0.004868  ...   \n",
       "sc_h           0.027166    0.037771 -0.025348  -0.033855 -0.000315  ...   \n",
       "sc_w           0.037005    0.011731 -0.018388  -0.020761  0.025826  ...   \n",
       "talk_time     -0.046628   -0.002790  0.017003   0.006209  0.013148  ...   \n",
       "three_g        0.584246   -0.009366 -0.012065   0.001551 -0.014733  ...   \n",
       "touch_screen   0.016758   -0.026999 -0.002638  -0.014368  0.023774  ...   \n",
       "wifi          -0.017620    0.006993 -0.028353  -0.000409 -0.009964  ...   \n",
       "price_range    0.014772    0.044435  0.000853  -0.030302  0.004399  ...   \n",
       "\n",
       "               px_height  px_width       ram      sc_h      sc_w  talk_time  \\\n",
       "battery_power   0.014901 -0.008402 -0.000653 -0.029959 -0.021421   0.052510   \n",
       "blue           -0.006872 -0.041533  0.026351 -0.002952  0.000613   0.013934   \n",
       "clock_speed    -0.014523 -0.009476  0.003443 -0.029078 -0.007378  -0.011432   \n",
       "dual_sim       -0.020875  0.014291  0.041072 -0.011949 -0.016666  -0.039404   \n",
       "fc             -0.009990 -0.005176  0.015099 -0.011014 -0.012373  -0.006829   \n",
       "four_g         -0.019236  0.007448  0.007313  0.027166  0.037005  -0.046628   \n",
       "int_memory      0.010441 -0.008335  0.032813  0.037771  0.011731  -0.002790   \n",
       "m_dep           0.025263  0.023566 -0.009434 -0.025348 -0.018388   0.017003   \n",
       "mobile_wt       0.000939  0.000090 -0.002581 -0.033855 -0.020761   0.006209   \n",
       "n_cores        -0.006872  0.024480  0.004868 -0.000315  0.025826   0.013148   \n",
       "pc             -0.018465  0.004196  0.028984  0.004938 -0.023819   0.014657   \n",
       "px_height       1.000000  0.510664 -0.020352  0.059615  0.043038  -0.010645   \n",
       "px_width        0.510664  1.000000  0.004105  0.021599  0.034699   0.006720   \n",
       "ram            -0.020352  0.004105  1.000000  0.015996  0.035576   0.010820   \n",
       "sc_h            0.059615  0.021599  0.015996  1.000000  0.506144  -0.017335   \n",
       "sc_w            0.043038  0.034699  0.035576  0.506144  1.000000  -0.022821   \n",
       "talk_time      -0.010645  0.006720  0.010820 -0.017335 -0.022821   1.000000   \n",
       "three_g        -0.031174  0.000350  0.015795  0.012033  0.030941  -0.042688   \n",
       "touch_screen    0.021891 -0.001628 -0.030455 -0.020023  0.012720   0.017196   \n",
       "wifi            0.051824  0.030319  0.022669  0.025929  0.035423  -0.029504   \n",
       "price_range     0.148858  0.165818  0.917046  0.022986  0.038711   0.021859   \n",
       "\n",
       "                three_g  touch_screen      wifi  price_range  \n",
       "battery_power  0.011522     -0.010516 -0.008343     0.200723  \n",
       "blue          -0.030236      0.010061 -0.021863     0.020573  \n",
       "clock_speed   -0.046433      0.019756 -0.024471    -0.006606  \n",
       "dual_sim      -0.014008     -0.017117  0.022740     0.017444  \n",
       "fc             0.001793     -0.014828  0.020085     0.021998  \n",
       "four_g         0.584246      0.016758 -0.017620     0.014772  \n",
       "int_memory    -0.009366     -0.026999  0.006993     0.044435  \n",
       "m_dep         -0.012065     -0.002638 -0.028353     0.000853  \n",
       "mobile_wt      0.001551     -0.014368 -0.000409    -0.030302  \n",
       "n_cores       -0.014733      0.023774 -0.009964     0.004399  \n",
       "pc            -0.001322     -0.008742  0.005389     0.033599  \n",
       "px_height     -0.031174      0.021891  0.051824     0.148858  \n",
       "px_width       0.000350     -0.001628  0.030319     0.165818  \n",
       "ram            0.015795     -0.030455  0.022669     0.917046  \n",
       "sc_h           0.012033     -0.020023  0.025929     0.022986  \n",
       "sc_w           0.030941      0.012720  0.035423     0.038711  \n",
       "talk_time     -0.042688      0.017196 -0.029504     0.021859  \n",
       "three_g        1.000000      0.013917  0.004316     0.023611  \n",
       "touch_screen   0.013917      1.000000  0.011917    -0.030411  \n",
       "wifi           0.004316      0.011917  1.000000     0.018785  \n",
       "price_range    0.023611     -0.030411  0.018785     1.000000  \n",
       "\n",
       "[21 rows x 21 columns]"
      ]
     },
     "execution_count": 124,
     "metadata": {},
     "output_type": "execute_result"
    }
   ],
   "source": [
    "corr = df.corr()\n",
    "corr"
   ]
  },
  {
   "cell_type": "code",
   "execution_count": 125,
   "metadata": {
    "execution": {
     "iopub.execute_input": "2020-12-20T00:59:08.857698Z",
     "iopub.status.busy": "2020-12-20T00:59:08.856803Z",
     "iopub.status.idle": "2020-12-20T00:59:10.619453Z",
     "shell.execute_reply": "2020-12-20T00:59:10.618666Z"
    },
    "papermill": {
     "duration": 1.814843,
     "end_time": "2020-12-20T00:59:10.619581",
     "exception": false,
     "start_time": "2020-12-20T00:59:08.804738",
     "status": "completed"
    },
    "tags": []
   },
   "outputs": [
    {
     "data": {
      "image/png": "[encoded data removed]",
      "text/plain": [
       "<Figure size 1224x720 with 2 Axes>"
      ]
     },
     "metadata": {
      "needs_background": "light"
     },
     "output_type": "display_data"
    }
   ],
   "source": [
    "plt.figure(figsize=(17,10))\n",
    "sns.heatmap(df.corr(),annot=True,fmt='.2f',cmap='Reds')\n",
    "plt.show()"
   ]
  },
  {
   "cell_type": "code",
   "execution_count": 126,
   "metadata": {
    "execution": {
     "iopub.execute_input": "2020-12-20T00:59:10.726849Z",
     "iopub.status.busy": "2020-12-20T00:59:10.725840Z",
     "iopub.status.idle": "2020-12-20T00:59:10.735201Z",
     "shell.execute_reply": "2020-12-20T00:59:10.735681Z"
    },
    "papermill": {
     "duration": 0.064462,
     "end_time": "2020-12-20T00:59:10.735847",
     "exception": false,
     "start_time": "2020-12-20T00:59:10.671385",
     "status": "completed"
    },
    "tags": []
   },
   "outputs": [
    {
     "data": {
      "text/plain": [
       "ram              0.917046\n",
       "battery_power    0.200723\n",
       "px_width         0.165818\n",
       "px_height        0.148858\n",
       "int_memory       0.044435\n",
       "sc_w             0.038711\n",
       "pc               0.033599\n",
       "three_g          0.023611\n",
       "sc_h             0.022986\n",
       "fc               0.021998\n",
       "talk_time        0.021859\n",
       "blue             0.020573\n",
       "wifi             0.018785\n",
       "dual_sim         0.017444\n",
       "four_g           0.014772\n",
       "n_cores          0.004399\n",
       "m_dep            0.000853\n",
       "clock_speed     -0.006606\n",
       "mobile_wt       -0.030302\n",
       "touch_screen    -0.030411\n",
       "Name: price_range, dtype: float64"
      ]
     },
     "execution_count": 126,
     "metadata": {},
     "output_type": "execute_result"
    }
   ],
   "source": [
    "# lets see the features with high correlation to price range\n",
    "# we can see that ram was highly correlated to price range\n",
    "\n",
    "corr['price_range'].drop(['price_range']).sort_values(ascending=False)"
   ]
  },
  {
   "cell_type": "code",
   "execution_count": 127,
   "metadata": {
    "execution": {
     "iopub.execute_input": "2020-12-20T00:59:10.844020Z",
     "iopub.status.busy": "2020-12-20T00:59:10.842995Z",
     "iopub.status.idle": "2020-12-20T00:59:11.058813Z",
     "shell.execute_reply": "2020-12-20T00:59:11.058144Z"
    },
    "papermill": {
     "duration": 0.271106,
     "end_time": "2020-12-20T00:59:11.058949",
     "exception": false,
     "start_time": "2020-12-20T00:59:10.787843",
     "status": "completed"
    },
    "tags": []
   },
   "outputs": [
    {
     "data": {
      "image/png": "[encoded data removed]",
      "text/plain": [
       "<Figure size 432x288 with 1 Axes>"
      ]
     },
     "metadata": {
      "needs_background": "light"
     },
     "output_type": "display_data"
    }
   ],
   "source": [
    "# distribution of price range \n",
    "# 0(low cost), 1(medium cost), 2(high cost) and 3(very high cost)\n",
    "\n",
    "sns.countplot(x='price_range', data=df)\n",
    "plt.show()"
   ]
  },
  {
   "cell_type": "markdown",
   "metadata": {
    "papermill": {
     "duration": 0.052796,
     "end_time": "2020-12-20T00:59:11.164759",
     "exception": false,
     "start_time": "2020-12-20T00:59:11.111963",
     "status": "completed"
    },
    "tags": []
   },
   "source": [
    "## Lets explore categorical variables"
   ]
  },
  {
   "cell_type": "markdown",
   "metadata": {
    "papermill": {
     "duration": 0.052189,
     "end_time": "2020-12-20T00:59:11.269204",
     "exception": false,
     "start_time": "2020-12-20T00:59:11.217015",
     "status": "completed"
    },
    "tags": []
   },
   "source": [
    "### Distribution of data based on ram"
   ]
  },
  {
   "cell_type": "code",
   "execution_count": 128,
   "metadata": {
    "execution": {
     "iopub.execute_input": "2020-12-20T00:59:11.384212Z",
     "iopub.status.busy": "2020-12-20T00:59:11.383444Z",
     "iopub.status.idle": "2020-12-20T00:59:11.652798Z",
     "shell.execute_reply": "2020-12-20T00:59:11.652205Z"
    },
    "papermill": {
     "duration": 0.331546,
     "end_time": "2020-12-20T00:59:11.652968",
     "exception": false,
     "start_time": "2020-12-20T00:59:11.321422",
     "status": "completed"
    },
    "tags": []
   },
   "outputs": [
    {
     "data": {
      "image/png": "[encoded data removed]",
      "text/plain": [
       "<Figure size 720x576 with 1 Axes>"
      ]
     },
     "metadata": {
      "needs_background": "light"
     },
     "output_type": "display_data"
    }
   ],
   "source": [
    "plt.figure(figsize=(10,8))\n",
    "sns.kdeplot(df[df['price_range']==0]['ram'],shade=True)\n",
    "sns.kdeplot(df[df['price_range']==1]['ram'],shade=True)\n",
    "sns.kdeplot(df[df['price_range']==2]['ram'],shade=True)\n",
    "sns.kdeplot(df[df['price_range']==3]['ram'],shade=True)\n",
    "plt.legend(['low cost ram','medium cost ram','high cost ram','very high cost ram'])\n",
    "plt.show()"
   ]
  },
  {
   "cell_type": "markdown",
   "metadata": {
    "papermill": {
     "duration": 0.053644,
     "end_time": "2020-12-20T00:59:11.761088",
     "exception": false,
     "start_time": "2020-12-20T00:59:11.707444",
     "status": "completed"
    },
    "tags": []
   },
   "source": [
    "### Bluetooth and Price range"
   ]
  },
  {
   "cell_type": "code",
   "execution_count": 129,
   "metadata": {
    "execution": {
     "iopub.execute_input": "2020-12-20T00:59:11.879118Z",
     "iopub.status.busy": "2020-12-20T00:59:11.878416Z",
     "iopub.status.idle": "2020-12-20T00:59:11.990336Z",
     "shell.execute_reply": "2020-12-20T00:59:11.989205Z"
    },
    "papermill": {
     "duration": 0.17459,
     "end_time": "2020-12-20T00:59:11.990466",
     "exception": false,
     "start_time": "2020-12-20T00:59:11.815876",
     "status": "completed"
    },
    "tags": []
   },
   "outputs": [
    {
     "data": {
      "image/png": "[encoded data removed]",
      "text/plain": [
       "<Figure size 432x288 with 1 Axes>"
      ]
     },
     "metadata": {
      "needs_background": "light"
     },
     "output_type": "display_data"
    }
   ],
   "source": [
    "sns.countplot(x='blue',data=df)\n",
    "plt.show()"
   ]
  },
  {
   "cell_type": "code",
   "execution_count": 130,
   "metadata": {
    "execution": {
     "iopub.execute_input": "2020-12-20T00:59:12.112581Z",
     "iopub.status.busy": "2020-12-20T00:59:12.111899Z",
     "iopub.status.idle": "2020-12-20T00:59:12.265970Z",
     "shell.execute_reply": "2020-12-20T00:59:12.266516Z"
    },
    "papermill": {
     "duration": 0.218099,
     "end_time": "2020-12-20T00:59:12.266681",
     "exception": false,
     "start_time": "2020-12-20T00:59:12.048582",
     "status": "completed"
    },
    "tags": []
   },
   "outputs": [
    {
     "data": {
      "image/png": "[encoded data removed]",
      "text/plain": [
       "<Figure size 432x288 with 1 Axes>"
      ]
     },
     "metadata": {
      "needs_background": "light"
     },
     "output_type": "display_data"
    }
   ],
   "source": [
    "# in this case, having or not having bluetooth cant predict the price_range\n",
    "\n",
    "sns.countplot(x='blue',hue='price_range',data=df)\n",
    "plt.show()"
   ]
  },
  {
   "cell_type": "markdown",
   "metadata": {
    "papermill": {
     "duration": 0.059308,
     "end_time": "2020-12-20T00:59:12.383730",
     "exception": false,
     "start_time": "2020-12-20T00:59:12.324422",
     "status": "completed"
    },
    "tags": []
   },
   "source": [
    "### Dual sim feature and Phone range"
   ]
  },
  {
   "cell_type": "code",
   "execution_count": 131,
   "metadata": {
    "execution": {
     "iopub.execute_input": "2020-12-20T00:59:12.506504Z",
     "iopub.status.busy": "2020-12-20T00:59:12.505848Z",
     "iopub.status.idle": "2020-12-20T00:59:12.611844Z",
     "shell.execute_reply": "2020-12-20T00:59:12.612525Z"
    },
    "papermill": {
     "duration": 0.169428,
     "end_time": "2020-12-20T00:59:12.612695",
     "exception": false,
     "start_time": "2020-12-20T00:59:12.443267",
     "status": "completed"
    },
    "tags": []
   },
   "outputs": [
    {
     "data": {
      "image/png": "[encoded data removed]",
      "text/plain": [
       "<Figure size 432x288 with 1 Axes>"
      ]
     },
     "metadata": {
      "needs_background": "light"
     },
     "output_type": "display_data"
    }
   ],
   "source": [
    "sns.countplot(x='dual_sim',data=df)\n",
    "plt.show()"
   ]
  },
  {
   "cell_type": "code",
   "execution_count": 132,
   "metadata": {
    "execution": {
     "iopub.execute_input": "2020-12-20T00:59:12.742644Z",
     "iopub.status.busy": "2020-12-20T00:59:12.741892Z",
     "iopub.status.idle": "2020-12-20T00:59:12.903002Z",
     "shell.execute_reply": "2020-12-20T00:59:12.903540Z"
    },
    "papermill": {
     "duration": 0.224018,
     "end_time": "2020-12-20T00:59:12.903725",
     "exception": false,
     "start_time": "2020-12-20T00:59:12.679707",
     "status": "completed"
    },
    "tags": []
   },
   "outputs": [
    {
     "data": {
      "image/png": "[encoded data removed]",
      "text/plain": [
       "<Figure size 432x288 with 1 Axes>"
      ]
     },
     "metadata": {
      "needs_background": "light"
     },
     "output_type": "display_data"
    }
   ],
   "source": [
    "# the distribution of price ranges in phone with and without dual sim feature are equal hence \n",
    "# it is too hard to classify the price range\n",
    "\n",
    "sns.countplot(x='dual_sim',hue='price_range',data=df)\n",
    "plt.show()"
   ]
  },
  {
   "cell_type": "markdown",
   "metadata": {
    "papermill": {
     "duration": 0.059603,
     "end_time": "2020-12-20T00:59:13.021289",
     "exception": false,
     "start_time": "2020-12-20T00:59:12.961686",
     "status": "completed"
    },
    "tags": []
   },
   "source": [
    "### phone is 4g and price range"
   ]
  },
  {
   "cell_type": "code",
   "execution_count": 133,
   "metadata": {
    "execution": {
     "iopub.execute_input": "2020-12-20T00:59:13.156979Z",
     "iopub.status.busy": "2020-12-20T00:59:13.156251Z",
     "iopub.status.idle": "2020-12-20T00:59:13.252993Z",
     "shell.execute_reply": "2020-12-20T00:59:13.253488Z"
    },
    "papermill": {
     "duration": 0.173324,
     "end_time": "2020-12-20T00:59:13.253673",
     "exception": false,
     "start_time": "2020-12-20T00:59:13.080349",
     "status": "completed"
    },
    "tags": []
   },
   "outputs": [
    {
     "data": {
      "image/png": "[encoded data removed]",
      "text/plain": [
       "<Figure size 432x288 with 1 Axes>"
      ]
     },
     "metadata": {
      "needs_background": "light"
     },
     "output_type": "display_data"
    }
   ],
   "source": [
    "sns.countplot(x='four_g',data=df)\n",
    "plt.show()"
   ]
  },
  {
   "cell_type": "code",
   "execution_count": 134,
   "metadata": {
    "execution": {
     "iopub.execute_input": "2020-12-20T00:59:13.373441Z",
     "iopub.status.busy": "2020-12-20T00:59:13.372650Z",
     "iopub.status.idle": "2020-12-20T00:59:13.533649Z",
     "shell.execute_reply": "2020-12-20T00:59:13.534155Z"
    },
    "papermill": {
     "duration": 0.222236,
     "end_time": "2020-12-20T00:59:13.534306",
     "exception": false,
     "start_time": "2020-12-20T00:59:13.312070",
     "status": "completed"
    },
    "tags": []
   },
   "outputs": [
    {
     "data": {
      "image/png": "[encoded data removed]",
      "text/plain": [
       "<Figure size 432x288 with 1 Axes>"
      ]
     },
     "metadata": {
      "needs_background": "light"
     },
     "output_type": "display_data"
    }
   ],
   "source": [
    "# same case as above\n",
    "\n",
    "sns.countplot(x='four_g',hue='price_range',data=df)\n",
    "plt.show()"
   ]
  },
  {
   "cell_type": "markdown",
   "metadata": {
    "papermill": {
     "duration": 0.0585,
     "end_time": "2020-12-20T00:59:13.653248",
     "exception": false,
     "start_time": "2020-12-20T00:59:13.594748",
     "status": "completed"
    },
    "tags": []
   },
   "source": [
    "### Number of core processors and price range"
   ]
  },
  {
   "cell_type": "code",
   "execution_count": 135,
   "metadata": {
    "execution": {
     "iopub.execute_input": "2020-12-20T00:59:13.776349Z",
     "iopub.status.busy": "2020-12-20T00:59:13.775677Z",
     "iopub.status.idle": "2020-12-20T00:59:13.916556Z",
     "shell.execute_reply": "2020-12-20T00:59:13.917167Z"
    },
    "papermill": {
     "duration": 0.204664,
     "end_time": "2020-12-20T00:59:13.917307",
     "exception": false,
     "start_time": "2020-12-20T00:59:13.712643",
     "status": "completed"
    },
    "tags": []
   },
   "outputs": [
    {
     "data": {
      "image/png": "[encoded data removed]",
      "text/plain": [
       "<Figure size 432x288 with 1 Axes>"
      ]
     },
     "metadata": {
      "needs_background": "light"
     },
     "output_type": "display_data"
    }
   ],
   "source": [
    "sns.countplot(x='n_cores',data=df)\n",
    "plt.show()"
   ]
  },
  {
   "cell_type": "code",
   "execution_count": 136,
   "metadata": {
    "execution": {
     "iopub.execute_input": "2020-12-20T00:59:14.056151Z",
     "iopub.status.busy": "2020-12-20T00:59:14.055179Z",
     "iopub.status.idle": "2020-12-20T00:59:15.390066Z",
     "shell.execute_reply": "2020-12-20T00:59:15.390574Z"
    },
    "papermill": {
     "duration": 1.413587,
     "end_time": "2020-12-20T00:59:15.390749",
     "exception": false,
     "start_time": "2020-12-20T00:59:13.977162",
     "status": "completed"
    },
    "tags": []
   },
   "outputs": [
    {
     "data": {
      "image/png": "[encoded data removed]",
      "text/plain": [
       "<Figure size 864x432 with 8 Axes>"
      ]
     },
     "metadata": {
      "needs_background": "light"
     },
     "output_type": "display_data"
    }
   ],
   "source": [
    "n_cores = sns.FacetGrid(df, col = \"n_cores\",hue='n_cores',col_wrap=4)\n",
    "n_cores.map(sns.countplot,'price_range',order=[0,1,2,3])\n",
    "plt.show()"
   ]
  },
  {
   "cell_type": "markdown",
   "metadata": {
    "papermill": {
     "duration": 0.062714,
     "end_time": "2020-12-20T00:59:15.514355",
     "exception": false,
     "start_time": "2020-12-20T00:59:15.451641",
     "status": "completed"
    },
    "tags": []
   },
   "source": [
    "### Phone is 3g and price range"
   ]
  },
  {
   "cell_type": "code",
   "execution_count": 137,
   "metadata": {
    "execution": {
     "iopub.execute_input": "2020-12-20T00:59:15.646065Z",
     "iopub.status.busy": "2020-12-20T00:59:15.645268Z",
     "iopub.status.idle": "2020-12-20T00:59:15.754298Z",
     "shell.execute_reply": "2020-12-20T00:59:15.754965Z"
    },
    "papermill": {
     "duration": 0.1793,
     "end_time": "2020-12-20T00:59:15.755120",
     "exception": false,
     "start_time": "2020-12-20T00:59:15.575820",
     "status": "completed"
    },
    "tags": []
   },
   "outputs": [
    {
     "data": {
      "image/png": "[encoded data removed]",
      "text/plain": [
       "<Figure size 432x288 with 1 Axes>"
      ]
     },
     "metadata": {
      "needs_background": "light"
     },
     "output_type": "display_data"
    }
   ],
   "source": [
    "sns.countplot(x='three_g',data=df)\n",
    "plt.show()"
   ]
  },
  {
   "cell_type": "code",
   "execution_count": 138,
   "metadata": {
    "execution": {
     "iopub.execute_input": "2020-12-20T00:59:15.886011Z",
     "iopub.status.busy": "2020-12-20T00:59:15.885256Z",
     "iopub.status.idle": "2020-12-20T00:59:16.056237Z",
     "shell.execute_reply": "2020-12-20T00:59:16.056797Z"
    },
    "papermill": {
     "duration": 0.237952,
     "end_time": "2020-12-20T00:59:16.056962",
     "exception": false,
     "start_time": "2020-12-20T00:59:15.819010",
     "status": "completed"
    },
    "tags": []
   },
   "outputs": [
    {
     "data": {
      "image/png": "[encoded data removed]",
      "text/plain": [
       "<Figure size 432x288 with 1 Axes>"
      ]
     },
     "metadata": {
      "needs_background": "light"
     },
     "output_type": "display_data"
    }
   ],
   "source": [
    "# distribution of price range is also equal\n",
    "\n",
    "sns.countplot(x='three_g',hue='price_range',data=df)\n",
    "plt.show()"
   ]
  },
  {
   "cell_type": "markdown",
   "metadata": {
    "papermill": {
     "duration": 0.062599,
     "end_time": "2020-12-20T00:59:16.182646",
     "exception": false,
     "start_time": "2020-12-20T00:59:16.120047",
     "status": "completed"
    },
    "tags": []
   },
   "source": [
    "### Touchscreen phone and price range"
   ]
  },
  {
   "cell_type": "code",
   "execution_count": 139,
   "metadata": {
    "execution": {
     "iopub.execute_input": "2020-12-20T00:59:16.312051Z",
     "iopub.status.busy": "2020-12-20T00:59:16.311268Z",
     "iopub.status.idle": "2020-12-20T00:59:16.418302Z",
     "shell.execute_reply": "2020-12-20T00:59:16.417497Z"
    },
    "papermill": {
     "duration": 0.173082,
     "end_time": "2020-12-20T00:59:16.418426",
     "exception": false,
     "start_time": "2020-12-20T00:59:16.245344",
     "status": "completed"
    },
    "tags": []
   },
   "outputs": [
    {
     "data": {
      "image/png": "[encoded data removed]",
      "text/plain": [
       "<Figure size 432x288 with 1 Axes>"
      ]
     },
     "metadata": {
      "needs_background": "light"
     },
     "output_type": "display_data"
    }
   ],
   "source": [
    "sns.countplot(x='touch_screen',data=df)\n",
    "plt.show()"
   ]
  },
  {
   "cell_type": "code",
   "execution_count": 140,
   "metadata": {
    "execution": {
     "iopub.execute_input": "2020-12-20T00:59:16.555124Z",
     "iopub.status.busy": "2020-12-20T00:59:16.553933Z",
     "iopub.status.idle": "2020-12-20T00:59:16.715237Z",
     "shell.execute_reply": "2020-12-20T00:59:16.715940Z"
    },
    "papermill": {
     "duration": 0.234142,
     "end_time": "2020-12-20T00:59:16.716093",
     "exception": false,
     "start_time": "2020-12-20T00:59:16.481951",
     "status": "completed"
    },
    "tags": []
   },
   "outputs": [
    {
     "data": {
      "image/png": "[encoded data removed]",
      "text/plain": [
       "<Figure size 432x288 with 1 Axes>"
      ]
     },
     "metadata": {
      "needs_background": "light"
     },
     "output_type": "display_data"
    }
   ],
   "source": [
    "sns.countplot(x='touch_screen',hue='price_range',data=df)\n",
    "plt.show()"
   ]
  },
  {
   "cell_type": "markdown",
   "metadata": {
    "papermill": {
     "duration": 0.066993,
     "end_time": "2020-12-20T00:59:16.847734",
     "exception": false,
     "start_time": "2020-12-20T00:59:16.780741",
     "status": "completed"
    },
    "tags": []
   },
   "source": [
    "### Wifi and Price range"
   ]
  },
  {
   "cell_type": "code",
   "execution_count": 141,
   "metadata": {
    "execution": {
     "iopub.execute_input": "2020-12-20T00:59:16.982617Z",
     "iopub.status.busy": "2020-12-20T00:59:16.981528Z",
     "iopub.status.idle": "2020-12-20T00:59:17.090620Z",
     "shell.execute_reply": "2020-12-20T00:59:17.090035Z"
    },
    "papermill": {
     "duration": 0.178826,
     "end_time": "2020-12-20T00:59:17.090782",
     "exception": false,
     "start_time": "2020-12-20T00:59:16.911956",
     "status": "completed"
    },
    "tags": []
   },
   "outputs": [
    {
     "data": {
      "image/png": "[encoded data removed]",
      "text/plain": [
       "<Figure size 432x288 with 1 Axes>"
      ]
     },
     "metadata": {
      "needs_background": "light"
     },
     "output_type": "display_data"
    }
   ],
   "source": [
    "sns.countplot(x='wifi',data=df)\n",
    "plt.show()"
   ]
  },
  {
   "cell_type": "code",
   "execution_count": 142,
   "metadata": {
    "execution": {
     "iopub.execute_input": "2020-12-20T00:59:17.231981Z",
     "iopub.status.busy": "2020-12-20T00:59:17.230727Z",
     "iopub.status.idle": "2020-12-20T00:59:17.385180Z",
     "shell.execute_reply": "2020-12-20T00:59:17.384424Z"
    },
    "papermill": {
     "duration": 0.227786,
     "end_time": "2020-12-20T00:59:17.385295",
     "exception": false,
     "start_time": "2020-12-20T00:59:17.157509",
     "status": "completed"
    },
    "tags": []
   },
   "outputs": [
    {
     "data": {
      "image/png": "[encoded data removed]",
      "text/plain": [
       "<Figure size 432x288 with 1 Axes>"
      ]
     },
     "metadata": {
      "needs_background": "light"
     },
     "output_type": "display_data"
    }
   ],
   "source": [
    "sns.countplot(x='wifi',hue='price_range',data=df)\n",
    "plt.show()"
   ]
  },
  {
   "cell_type": "markdown",
   "metadata": {},
   "source": [
    "## Top 5 features with highest correlation to target variable"
   ]
  },
  {
   "cell_type": "code",
   "execution_count": 143,
   "metadata": {
    "scrolled": false
   },
   "outputs": [
    {
     "data": {
      "image/png": "[encoded data removed]",
      "text/plain": [
       "<Figure size 1080x432 with 2 Axes>"
      ]
     },
     "metadata": {
      "needs_background": "light"
     },
     "output_type": "display_data"
    },
    {
     "data": {
      "image/png": "[encoded data removed]",
      "text/plain": [
       "<Figure size 1080x288 with 3 Axes>"
      ]
     },
     "metadata": {
      "needs_background": "light"
     },
     "output_type": "display_data"
    }
   ],
   "source": [
    "fig,ax = plt.subplots(nrows=1,ncols=2,figsize=(15,6))\n",
    "sns.boxplot(y='ram',data=df,width=0.4,ax=ax[0])\n",
    "sns.boxplot(y='battery_power',data=df,width=0.4,ax=ax[1],color='red')\n",
    "ax[0].set_title('Ram')\n",
    "ax[1].set_title('Battery power')\n",
    "fig,ax = plt.subplots(nrows=1,ncols=3,figsize=(15,4))\n",
    "sns.boxplot(y='px_width',data=df,width=0.4,ax=ax[0],color='green')\n",
    "sns.boxplot(y='px_height',data=df,width=0.4,ax=ax[1],color='yellow')\n",
    "sns.boxplot(y='int_memory',data=df,width=0.4,ax=ax[2],color='violet')\n",
    "ax[0].set_title('Pixel resolution width')\n",
    "ax[1].set_title('Pixel resolution height')\n",
    "ax[2].set_title('Internal Memory (GB)')\n",
    "plt.show()"
   ]
  },
  {
   "cell_type": "code",
   "execution_count": 144,
   "metadata": {},
   "outputs": [
    {
     "data": {
      "text/html": [
       "<div>\n",
       "<style scoped>\n",
       "    .dataframe tbody tr th:only-of-type {\n",
       "        vertical-align: middle;\n",
       "    }\n",
       "\n",
       "    .dataframe tbody tr th {\n",
       "        vertical-align: top;\n",
       "    }\n",
       "\n",
       "    .dataframe thead th {\n",
       "        text-align: right;\n",
       "    }\n",
       "</style>\n",
       "<table border=\"1\" class=\"dataframe\">\n",
       "  <thead>\n",
       "    <tr style=\"text-align: right;\">\n",
       "      <th></th>\n",
       "      <th>count</th>\n",
       "      <th>mean</th>\n",
       "      <th>std</th>\n",
       "      <th>min</th>\n",
       "      <th>25%</th>\n",
       "      <th>50%</th>\n",
       "      <th>75%</th>\n",
       "      <th>max</th>\n",
       "    </tr>\n",
       "  </thead>\n",
       "  <tbody>\n",
       "    <tr>\n",
       "      <th>ram</th>\n",
       "      <td>2000.0</td>\n",
       "      <td>2124.2130</td>\n",
       "      <td>1084.732044</td>\n",
       "      <td>256.0</td>\n",
       "      <td>1207.50</td>\n",
       "      <td>2146.5</td>\n",
       "      <td>3064.50</td>\n",
       "      <td>3998.0</td>\n",
       "    </tr>\n",
       "    <tr>\n",
       "      <th>battery_power</th>\n",
       "      <td>2000.0</td>\n",
       "      <td>1238.5185</td>\n",
       "      <td>439.418206</td>\n",
       "      <td>501.0</td>\n",
       "      <td>851.75</td>\n",
       "      <td>1226.0</td>\n",
       "      <td>1615.25</td>\n",
       "      <td>1998.0</td>\n",
       "    </tr>\n",
       "    <tr>\n",
       "      <th>px_width</th>\n",
       "      <td>2000.0</td>\n",
       "      <td>1251.5155</td>\n",
       "      <td>432.199447</td>\n",
       "      <td>500.0</td>\n",
       "      <td>874.75</td>\n",
       "      <td>1247.0</td>\n",
       "      <td>1633.00</td>\n",
       "      <td>1998.0</td>\n",
       "    </tr>\n",
       "    <tr>\n",
       "      <th>px_height</th>\n",
       "      <td>2000.0</td>\n",
       "      <td>645.1080</td>\n",
       "      <td>443.780811</td>\n",
       "      <td>0.0</td>\n",
       "      <td>282.75</td>\n",
       "      <td>564.0</td>\n",
       "      <td>947.25</td>\n",
       "      <td>1960.0</td>\n",
       "    </tr>\n",
       "    <tr>\n",
       "      <th>int_memory</th>\n",
       "      <td>2000.0</td>\n",
       "      <td>32.0465</td>\n",
       "      <td>18.145715</td>\n",
       "      <td>2.0</td>\n",
       "      <td>16.00</td>\n",
       "      <td>32.0</td>\n",
       "      <td>48.00</td>\n",
       "      <td>64.0</td>\n",
       "    </tr>\n",
       "  </tbody>\n",
       "</table>\n",
       "</div>"
      ],
      "text/plain": [
       "                count       mean          std    min      25%     50%  \\\n",
       "ram            2000.0  2124.2130  1084.732044  256.0  1207.50  2146.5   \n",
       "battery_power  2000.0  1238.5185   439.418206  501.0   851.75  1226.0   \n",
       "px_width       2000.0  1251.5155   432.199447  500.0   874.75  1247.0   \n",
       "px_height      2000.0   645.1080   443.780811    0.0   282.75   564.0   \n",
       "int_memory     2000.0    32.0465    18.145715    2.0    16.00    32.0   \n",
       "\n",
       "                   75%     max  \n",
       "ram            3064.50  3998.0  \n",
       "battery_power  1615.25  1998.0  \n",
       "px_width       1633.00  1998.0  \n",
       "px_height       947.25  1960.0  \n",
       "int_memory       48.00    64.0  "
      ]
     },
     "execution_count": 144,
     "metadata": {},
     "output_type": "execute_result"
    }
   ],
   "source": [
    "# we can see the minimum pixel resolution in height is 0\n",
    "df[['ram','battery_power','px_width','px_height','int_memory']].describe().T"
   ]
  },
  {
   "cell_type": "code",
   "execution_count": 145,
   "metadata": {},
   "outputs": [],
   "source": [
    "# we will drop all the rows with px_height less than 75\n",
    "df1 = df[df['px_height']>75]"
   ]
  },
  {
   "cell_type": "markdown",
   "metadata": {
    "papermill": {
     "duration": 0.065907,
     "end_time": "2020-12-20T00:59:17.516742",
     "exception": false,
     "start_time": "2020-12-20T00:59:17.450835",
     "status": "completed"
    },
    "tags": []
   },
   "source": [
    "# Model building\n",
    "\n",
    "* i will only consider the top five features with high correlation to target variable\n",
    "* i didnt include categorical value since most of them have equal distribution for price ranges"
   ]
  },
  {
   "cell_type": "code",
   "execution_count": 146,
   "metadata": {
    "execution": {
     "iopub.execute_input": "2020-12-20T00:59:17.656319Z",
     "iopub.status.busy": "2020-12-20T00:59:17.655546Z",
     "iopub.status.idle": "2020-12-20T00:59:17.659458Z",
     "shell.execute_reply": "2020-12-20T00:59:17.658304Z"
    },
    "papermill": {
     "duration": 0.076243,
     "end_time": "2020-12-20T00:59:17.659600",
     "exception": false,
     "start_time": "2020-12-20T00:59:17.583357",
     "status": "completed"
    },
    "tags": []
   },
   "outputs": [],
   "source": [
    "df2 = df1[['ram','battery_power','px_width','px_height','int_memory','price_range']]"
   ]
  },
  {
   "cell_type": "code",
   "execution_count": 147,
   "metadata": {},
   "outputs": [
    {
     "data": {
      "text/plain": [
       "(1895, 6)"
      ]
     },
     "execution_count": 147,
     "metadata": {},
     "output_type": "execute_result"
    }
   ],
   "source": [
    "df2.shape"
   ]
  },
  {
   "cell_type": "code",
   "execution_count": 148,
   "metadata": {
    "_cell_guid": "79c7e3d0-c299-4dcb-8224-4455121ee9b0",
    "_uuid": "d629ff2d2480ee46fbb7e2d37f6b5fab8052498a",
    "execution": {
     "iopub.execute_input": "2020-12-20T00:59:17.805947Z",
     "iopub.status.busy": "2020-12-20T00:59:17.805228Z",
     "iopub.status.idle": "2020-12-20T00:59:17.811291Z",
     "shell.execute_reply": "2020-12-20T00:59:17.810570Z"
    },
    "papermill": {
     "duration": 0.083372,
     "end_time": "2020-12-20T00:59:17.811410",
     "exception": false,
     "start_time": "2020-12-20T00:59:17.728038",
     "status": "completed"
    },
    "scrolled": false,
    "tags": []
   },
   "outputs": [
    {
     "data": {
      "text/html": [
       "<div>\n",
       "<style scoped>\n",
       "    .dataframe tbody tr th:only-of-type {\n",
       "        vertical-align: middle;\n",
       "    }\n",
       "\n",
       "    .dataframe tbody tr th {\n",
       "        vertical-align: top;\n",
       "    }\n",
       "\n",
       "    .dataframe thead th {\n",
       "        text-align: right;\n",
       "    }\n",
       "</style>\n",
       "<table border=\"1\" class=\"dataframe\">\n",
       "  <thead>\n",
       "    <tr style=\"text-align: right;\">\n",
       "      <th></th>\n",
       "      <th>ram</th>\n",
       "      <th>battery_power</th>\n",
       "      <th>px_width</th>\n",
       "      <th>px_height</th>\n",
       "      <th>int_memory</th>\n",
       "      <th>price_range</th>\n",
       "    </tr>\n",
       "  </thead>\n",
       "  <tbody>\n",
       "    <tr>\n",
       "      <th>1</th>\n",
       "      <td>2631</td>\n",
       "      <td>1021</td>\n",
       "      <td>1988</td>\n",
       "      <td>905</td>\n",
       "      <td>53</td>\n",
       "      <td>2</td>\n",
       "    </tr>\n",
       "    <tr>\n",
       "      <th>2</th>\n",
       "      <td>2603</td>\n",
       "      <td>563</td>\n",
       "      <td>1716</td>\n",
       "      <td>1263</td>\n",
       "      <td>41</td>\n",
       "      <td>2</td>\n",
       "    </tr>\n",
       "    <tr>\n",
       "      <th>3</th>\n",
       "      <td>2769</td>\n",
       "      <td>615</td>\n",
       "      <td>1786</td>\n",
       "      <td>1216</td>\n",
       "      <td>10</td>\n",
       "      <td>2</td>\n",
       "    </tr>\n",
       "    <tr>\n",
       "      <th>4</th>\n",
       "      <td>1411</td>\n",
       "      <td>1821</td>\n",
       "      <td>1212</td>\n",
       "      <td>1208</td>\n",
       "      <td>44</td>\n",
       "      <td>1</td>\n",
       "    </tr>\n",
       "    <tr>\n",
       "      <th>5</th>\n",
       "      <td>1067</td>\n",
       "      <td>1859</td>\n",
       "      <td>1654</td>\n",
       "      <td>1004</td>\n",
       "      <td>22</td>\n",
       "      <td>1</td>\n",
       "    </tr>\n",
       "  </tbody>\n",
       "</table>\n",
       "</div>"
      ],
      "text/plain": [
       "    ram  battery_power  px_width  px_height  int_memory  price_range\n",
       "1  2631           1021      1988        905          53            2\n",
       "2  2603            563      1716       1263          41            2\n",
       "3  2769            615      1786       1216          10            2\n",
       "4  1411           1821      1212       1208          44            1\n",
       "5  1067           1859      1654       1004          22            1"
      ]
     },
     "execution_count": 148,
     "metadata": {},
     "output_type": "execute_result"
    }
   ],
   "source": [
    "df2.head()"
   ]
  },
  {
   "cell_type": "markdown",
   "metadata": {
    "papermill": {
     "duration": 0.066669,
     "end_time": "2020-12-20T00:59:17.944409",
     "exception": false,
     "start_time": "2020-12-20T00:59:17.877740",
     "status": "completed"
    },
    "tags": []
   },
   "source": [
    "## Separate independent variable to target variable"
   ]
  },
  {
   "cell_type": "code",
   "execution_count": 149,
   "metadata": {
    "execution": {
     "iopub.execute_input": "2020-12-20T00:59:18.087972Z",
     "iopub.status.busy": "2020-12-20T00:59:18.087235Z",
     "iopub.status.idle": "2020-12-20T00:59:18.090662Z",
     "shell.execute_reply": "2020-12-20T00:59:18.090009Z"
    },
    "papermill": {
     "duration": 0.079569,
     "end_time": "2020-12-20T00:59:18.090784",
     "exception": false,
     "start_time": "2020-12-20T00:59:18.011215",
     "status": "completed"
    },
    "tags": []
   },
   "outputs": [],
   "source": [
    "X = df2.drop(['price_range'],axis=1)\n",
    "y = df2['price_range']"
   ]
  },
  {
   "cell_type": "code",
   "execution_count": 150,
   "metadata": {
    "execution": {
     "iopub.execute_input": "2020-12-20T00:59:18.230747Z",
     "iopub.status.busy": "2020-12-20T00:59:18.230022Z",
     "iopub.status.idle": "2020-12-20T00:59:18.237808Z",
     "shell.execute_reply": "2020-12-20T00:59:18.238329Z"
    },
    "papermill": {
     "duration": 0.080333,
     "end_time": "2020-12-20T00:59:18.238480",
     "exception": false,
     "start_time": "2020-12-20T00:59:18.158147",
     "status": "completed"
    },
    "tags": []
   },
   "outputs": [
    {
     "data": {
      "text/html": [
       "<div>\n",
       "<style scoped>\n",
       "    .dataframe tbody tr th:only-of-type {\n",
       "        vertical-align: middle;\n",
       "    }\n",
       "\n",
       "    .dataframe tbody tr th {\n",
       "        vertical-align: top;\n",
       "    }\n",
       "\n",
       "    .dataframe thead th {\n",
       "        text-align: right;\n",
       "    }\n",
       "</style>\n",
       "<table border=\"1\" class=\"dataframe\">\n",
       "  <thead>\n",
       "    <tr style=\"text-align: right;\">\n",
       "      <th></th>\n",
       "      <th>ram</th>\n",
       "      <th>battery_power</th>\n",
       "      <th>px_width</th>\n",
       "      <th>px_height</th>\n",
       "      <th>int_memory</th>\n",
       "    </tr>\n",
       "  </thead>\n",
       "  <tbody>\n",
       "    <tr>\n",
       "      <th>1</th>\n",
       "      <td>2631</td>\n",
       "      <td>1021</td>\n",
       "      <td>1988</td>\n",
       "      <td>905</td>\n",
       "      <td>53</td>\n",
       "    </tr>\n",
       "    <tr>\n",
       "      <th>2</th>\n",
       "      <td>2603</td>\n",
       "      <td>563</td>\n",
       "      <td>1716</td>\n",
       "      <td>1263</td>\n",
       "      <td>41</td>\n",
       "    </tr>\n",
       "    <tr>\n",
       "      <th>3</th>\n",
       "      <td>2769</td>\n",
       "      <td>615</td>\n",
       "      <td>1786</td>\n",
       "      <td>1216</td>\n",
       "      <td>10</td>\n",
       "    </tr>\n",
       "    <tr>\n",
       "      <th>4</th>\n",
       "      <td>1411</td>\n",
       "      <td>1821</td>\n",
       "      <td>1212</td>\n",
       "      <td>1208</td>\n",
       "      <td>44</td>\n",
       "    </tr>\n",
       "    <tr>\n",
       "      <th>5</th>\n",
       "      <td>1067</td>\n",
       "      <td>1859</td>\n",
       "      <td>1654</td>\n",
       "      <td>1004</td>\n",
       "      <td>22</td>\n",
       "    </tr>\n",
       "  </tbody>\n",
       "</table>\n",
       "</div>"
      ],
      "text/plain": [
       "    ram  battery_power  px_width  px_height  int_memory\n",
       "1  2631           1021      1988        905          53\n",
       "2  2603            563      1716       1263          41\n",
       "3  2769            615      1786       1216          10\n",
       "4  1411           1821      1212       1208          44\n",
       "5  1067           1859      1654       1004          22"
      ]
     },
     "execution_count": 150,
     "metadata": {},
     "output_type": "execute_result"
    }
   ],
   "source": [
    "X.head()"
   ]
  },
  {
   "cell_type": "code",
   "execution_count": 151,
   "metadata": {
    "execution": {
     "iopub.execute_input": "2020-12-20T00:59:18.376535Z",
     "iopub.status.busy": "2020-12-20T00:59:18.375826Z",
     "iopub.status.idle": "2020-12-20T00:59:18.382142Z",
     "shell.execute_reply": "2020-12-20T00:59:18.382668Z"
    },
    "papermill": {
     "duration": 0.076977,
     "end_time": "2020-12-20T00:59:18.382809",
     "exception": false,
     "start_time": "2020-12-20T00:59:18.305832",
     "status": "completed"
    },
    "tags": []
   },
   "outputs": [
    {
     "data": {
      "text/plain": [
       "1    2\n",
       "2    2\n",
       "3    2\n",
       "4    1\n",
       "5    1\n",
       "Name: price_range, dtype: int64"
      ]
     },
     "execution_count": 151,
     "metadata": {},
     "output_type": "execute_result"
    }
   ],
   "source": [
    "y.head()"
   ]
  },
  {
   "cell_type": "markdown",
   "metadata": {
    "papermill": {
     "duration": 0.067314,
     "end_time": "2020-12-20T00:59:18.517177",
     "exception": false,
     "start_time": "2020-12-20T00:59:18.449863",
     "status": "completed"
    },
    "tags": []
   },
   "source": [
    "## Knn Algorithm "
   ]
  },
  {
   "cell_type": "code",
   "execution_count": 152,
   "metadata": {
    "execution": {
     "iopub.execute_input": "2020-12-20T00:59:18.659709Z",
     "iopub.status.busy": "2020-12-20T00:59:18.658988Z",
     "iopub.status.idle": "2020-12-20T00:59:19.005995Z",
     "shell.execute_reply": "2020-12-20T00:59:19.006577Z"
    },
    "papermill": {
     "duration": 0.421726,
     "end_time": "2020-12-20T00:59:19.006787",
     "exception": false,
     "start_time": "2020-12-20T00:59:18.585061",
     "status": "completed"
    },
    "tags": []
   },
   "outputs": [],
   "source": [
    "from sklearn.model_selection import GridSearchCV, ShuffleSplit, cross_val_score, train_test_split\n",
    "from sklearn.neighbors import KNeighborsClassifier\n",
    "from sklearn.preprocessing import MinMaxScaler"
   ]
  },
  {
   "cell_type": "code",
   "execution_count": 153,
   "metadata": {
    "execution": {
     "iopub.execute_input": "2020-12-20T00:59:19.148883Z",
     "iopub.status.busy": "2020-12-20T00:59:19.147967Z",
     "iopub.status.idle": "2020-12-20T00:59:19.153041Z",
     "shell.execute_reply": "2020-12-20T00:59:19.152245Z"
    },
    "papermill": {
     "duration": 0.078823,
     "end_time": "2020-12-20T00:59:19.153163",
     "exception": false,
     "start_time": "2020-12-20T00:59:19.074340",
     "status": "completed"
    },
    "tags": []
   },
   "outputs": [],
   "source": [
    "X_train, X_test, y_train, y_test = train_test_split(X, y, test_size = 0.3, random_state=0)"
   ]
  },
  {
   "cell_type": "code",
   "execution_count": 154,
   "metadata": {
    "execution": {
     "iopub.execute_input": "2020-12-20T00:59:19.293563Z",
     "iopub.status.busy": "2020-12-20T00:59:19.292898Z",
     "iopub.status.idle": "2020-12-20T00:59:19.298459Z",
     "shell.execute_reply": "2020-12-20T00:59:19.297860Z"
    },
    "papermill": {
     "duration": 0.077891,
     "end_time": "2020-12-20T00:59:19.298600",
     "exception": false,
     "start_time": "2020-12-20T00:59:19.220709",
     "status": "completed"
    },
    "tags": []
   },
   "outputs": [
    {
     "name": "stdout",
     "output_type": "stream",
     "text": [
      "Length of train dataset:  1326\n",
      "Length of test dataset:  569\n"
     ]
    }
   ],
   "source": [
    "print('Length of train dataset: ',len(X_train))\n",
    "print('Length of test dataset: ',len(X_test))"
   ]
  },
  {
   "cell_type": "markdown",
   "metadata": {
    "papermill": {
     "duration": 0.067423,
     "end_time": "2020-12-20T00:59:19.434617",
     "exception": false,
     "start_time": "2020-12-20T00:59:19.367194",
     "status": "completed"
    },
    "tags": []
   },
   "source": [
    "### Scale first the data"
   ]
  },
  {
   "cell_type": "code",
   "execution_count": 155,
   "metadata": {
    "execution": {
     "iopub.execute_input": "2020-12-20T00:59:19.586144Z",
     "iopub.status.busy": "2020-12-20T00:59:19.585415Z",
     "iopub.status.idle": "2020-12-20T00:59:19.588828Z",
     "shell.execute_reply": "2020-12-20T00:59:19.588155Z"
    },
    "papermill": {
     "duration": 0.083779,
     "end_time": "2020-12-20T00:59:19.588945",
     "exception": false,
     "start_time": "2020-12-20T00:59:19.505166",
     "status": "completed"
    },
    "tags": []
   },
   "outputs": [
    {
     "name": "stderr",
     "output_type": "stream",
     "text": [
      "C:\\Users\\Admin\\Anaconda3\\lib\\site-packages\\sklearn\\preprocessing\\data.py:334: DataConversionWarning: Data with input dtype int64 were all converted to float64 by MinMaxScaler.\n",
      "  return self.partial_fit(X, y)\n"
     ]
    }
   ],
   "source": [
    "scaler = MinMaxScaler()\n",
    "scaler.fit(X_train)\n",
    "scaled_X_train = scaler.transform(X_train)\n",
    "scaled_X_test = scaler.transform(X_test)"
   ]
  },
  {
   "cell_type": "markdown",
   "metadata": {
    "papermill": {
     "duration": 0.067481,
     "end_time": "2020-12-20T00:59:19.726350",
     "exception": false,
     "start_time": "2020-12-20T00:59:19.658869",
     "status": "completed"
    },
    "tags": []
   },
   "source": [
    "### Applying the algorithm"
   ]
  },
  {
   "cell_type": "code",
   "execution_count": 156,
   "metadata": {
    "execution": {
     "iopub.execute_input": "2020-12-20T00:59:19.873325Z",
     "iopub.status.busy": "2020-12-20T00:59:19.869515Z",
     "iopub.status.idle": "2020-12-20T00:59:19.880436Z",
     "shell.execute_reply": "2020-12-20T00:59:19.880925Z"
    },
    "papermill": {
     "duration": 0.085449,
     "end_time": "2020-12-20T00:59:19.881074",
     "exception": false,
     "start_time": "2020-12-20T00:59:19.795625",
     "status": "completed"
    },
    "tags": []
   },
   "outputs": [
    {
     "data": {
      "text/plain": [
       "KNeighborsClassifier(algorithm='auto', leaf_size=30, metric='minkowski',\n",
       "           metric_params=None, n_jobs=None, n_neighbors=5, p=2,\n",
       "           weights='uniform')"
      ]
     },
     "execution_count": 156,
     "metadata": {},
     "output_type": "execute_result"
    }
   ],
   "source": [
    "knn_model = KNeighborsClassifier()\n",
    "knn_model.fit(scaled_X_train,y_train)"
   ]
  },
  {
   "cell_type": "code",
   "execution_count": 157,
   "metadata": {
    "execution": {
     "iopub.execute_input": "2020-12-20T00:59:20.025947Z",
     "iopub.status.busy": "2020-12-20T00:59:20.025211Z",
     "iopub.status.idle": "2020-12-20T00:59:20.058869Z",
     "shell.execute_reply": "2020-12-20T00:59:20.058143Z"
    },
    "papermill": {
     "duration": 0.108771,
     "end_time": "2020-12-20T00:59:20.059001",
     "exception": false,
     "start_time": "2020-12-20T00:59:19.950230",
     "status": "completed"
    },
    "tags": []
   },
   "outputs": [],
   "source": [
    "y_predicted = knn_model.predict(scaled_X_test)"
   ]
  },
  {
   "cell_type": "markdown",
   "metadata": {
    "papermill": {
     "duration": 0.072626,
     "end_time": "2020-12-20T00:59:20.207398",
     "exception": false,
     "start_time": "2020-12-20T00:59:20.134772",
     "status": "completed"
    },
    "tags": []
   },
   "source": [
    "### Confusion matrix and Classification Report"
   ]
  },
  {
   "cell_type": "code",
   "execution_count": 158,
   "metadata": {
    "execution": {
     "iopub.execute_input": "2020-12-20T00:59:20.355277Z",
     "iopub.status.busy": "2020-12-20T00:59:20.354575Z",
     "iopub.status.idle": "2020-12-20T00:59:20.358379Z",
     "shell.execute_reply": "2020-12-20T00:59:20.357693Z"
    },
    "papermill": {
     "duration": 0.079591,
     "end_time": "2020-12-20T00:59:20.358495",
     "exception": false,
     "start_time": "2020-12-20T00:59:20.278904",
     "status": "completed"
    },
    "tags": []
   },
   "outputs": [],
   "source": [
    "from sklearn.metrics import confusion_matrix, classification_report, accuracy_score"
   ]
  },
  {
   "cell_type": "code",
   "execution_count": 159,
   "metadata": {
    "execution": {
     "iopub.execute_input": "2020-12-20T00:59:20.506256Z",
     "iopub.status.busy": "2020-12-20T00:59:20.504339Z",
     "iopub.status.idle": "2020-12-20T00:59:20.513028Z",
     "shell.execute_reply": "2020-12-20T00:59:20.513516Z"
    },
    "papermill": {
     "duration": 0.085413,
     "end_time": "2020-12-20T00:59:20.513693",
     "exception": false,
     "start_time": "2020-12-20T00:59:20.428280",
     "status": "completed"
    },
    "tags": []
   },
   "outputs": [
    {
     "data": {
      "text/plain": [
       "array([[124,  15,   0,   0],\n",
       "       [ 14, 104,  19,   0],\n",
       "       [  0,  20, 123,   9],\n",
       "       [  0,   0,  19, 122]], dtype=int64)"
      ]
     },
     "execution_count": 159,
     "metadata": {},
     "output_type": "execute_result"
    }
   ],
   "source": [
    "confusion_matrix_result = confusion_matrix(y_test,y_predicted)\n",
    "confusion_matrix_result"
   ]
  },
  {
   "cell_type": "code",
   "execution_count": 160,
   "metadata": {
    "execution": {
     "iopub.execute_input": "2020-12-20T00:59:20.674046Z",
     "iopub.status.busy": "2020-12-20T00:59:20.667270Z",
     "iopub.status.idle": "2020-12-20T00:59:20.876691Z",
     "shell.execute_reply": "2020-12-20T00:59:20.877479Z"
    },
    "papermill": {
     "duration": 0.292782,
     "end_time": "2020-12-20T00:59:20.877655",
     "exception": false,
     "start_time": "2020-12-20T00:59:20.584873",
     "status": "completed"
    },
    "tags": []
   },
   "outputs": [
    {
     "data": {
      "image/png": "[encoded data removed]",
      "text/plain": [
       "<Figure size 432x288 with 2 Axes>"
      ]
     },
     "metadata": {
      "needs_background": "light"
     },
     "output_type": "display_data"
    }
   ],
   "source": [
    "sns.heatmap(confusion_matrix_result,annot=True,cmap='Reds',fmt='.0f')\n",
    "plt.show()"
   ]
  },
  {
   "cell_type": "code",
   "execution_count": 161,
   "metadata": {
    "execution": {
     "iopub.execute_input": "2020-12-20T00:59:21.025942Z",
     "iopub.status.busy": "2020-12-20T00:59:21.025197Z",
     "iopub.status.idle": "2020-12-20T00:59:21.029227Z",
     "shell.execute_reply": "2020-12-20T00:59:21.028670Z"
    },
    "papermill": {
     "duration": 0.081187,
     "end_time": "2020-12-20T00:59:21.029348",
     "exception": false,
     "start_time": "2020-12-20T00:59:20.948161",
     "status": "completed"
    },
    "tags": []
   },
   "outputs": [
    {
     "name": "stdout",
     "output_type": "stream",
     "text": [
      "KNN accuracy score:  0.8312829525483304\n"
     ]
    }
   ],
   "source": [
    "print('KNN accuracy score: ',accuracy_score(y_test,y_predicted))"
   ]
  },
  {
   "cell_type": "code",
   "execution_count": 162,
   "metadata": {
    "execution": {
     "iopub.execute_input": "2020-12-20T00:59:21.203706Z",
     "iopub.status.busy": "2020-12-20T00:59:21.202973Z",
     "iopub.status.idle": "2020-12-20T00:59:21.214535Z",
     "shell.execute_reply": "2020-12-20T00:59:21.213953Z"
    },
    "papermill": {
     "duration": 0.103199,
     "end_time": "2020-12-20T00:59:21.214694",
     "exception": false,
     "start_time": "2020-12-20T00:59:21.111495",
     "status": "completed"
    },
    "tags": []
   },
   "outputs": [
    {
     "name": "stdout",
     "output_type": "stream",
     "text": [
      "              precision    recall  f1-score   support\n",
      "\n",
      "           0       0.90      0.89      0.90       139\n",
      "           1       0.75      0.76      0.75       137\n",
      "           2       0.76      0.81      0.79       152\n",
      "           3       0.93      0.87      0.90       141\n",
      "\n",
      "   micro avg       0.83      0.83      0.83       569\n",
      "   macro avg       0.84      0.83      0.83       569\n",
      "weighted avg       0.83      0.83      0.83       569\n",
      "\n"
     ]
    }
   ],
   "source": [
    "classification_report_result = classification_report(y_test,y_predicted)\n",
    "print(classification_report_result)"
   ]
  },
  {
   "cell_type": "markdown",
   "metadata": {
    "papermill": {
     "duration": 0.072569,
     "end_time": "2020-12-20T00:59:21.362563",
     "exception": false,
     "start_time": "2020-12-20T00:59:21.289994",
     "status": "completed"
    },
    "tags": []
   },
   "source": [
    "# Find best model using GridSearchCV\n",
    "\n",
    "* I will create seperate pipelines for each model for gridsearchcv rather than a script with all the models on it"
   ]
  },
  {
   "cell_type": "code",
   "execution_count": 163,
   "metadata": {
    "execution": {
     "iopub.execute_input": "2020-12-20T00:59:21.512207Z",
     "iopub.status.busy": "2020-12-20T00:59:21.511522Z",
     "iopub.status.idle": "2020-12-20T00:59:21.584816Z",
     "shell.execute_reply": "2020-12-20T00:59:21.584053Z"
    },
    "papermill": {
     "duration": 0.150266,
     "end_time": "2020-12-20T00:59:21.584945",
     "exception": false,
     "start_time": "2020-12-20T00:59:21.434679",
     "status": "completed"
    },
    "tags": []
   },
   "outputs": [],
   "source": [
    "from sklearn.linear_model import LogisticRegression\n",
    "from sklearn.svm import SVC\n",
    "from sklearn.tree import DecisionTreeClassifier\n",
    "from sklearn.ensemble import RandomForestClassifier\n",
    "from sklearn.naive_bayes import GaussianNB\n",
    "from sklearn.pipeline import Pipeline, make_pipeline"
   ]
  },
  {
   "cell_type": "markdown",
   "metadata": {
    "papermill": {
     "duration": 0.071832,
     "end_time": "2020-12-20T00:59:21.728199",
     "exception": false,
     "start_time": "2020-12-20T00:59:21.656367",
     "status": "completed"
    },
    "tags": []
   },
   "source": [
    "## Logistic Regression"
   ]
  },
  {
   "cell_type": "code",
   "execution_count": 164,
   "metadata": {
    "execution": {
     "iopub.execute_input": "2020-12-20T00:59:21.877857Z",
     "iopub.status.busy": "2020-12-20T00:59:21.877155Z",
     "iopub.status.idle": "2020-12-20T00:59:24.343130Z",
     "shell.execute_reply": "2020-12-20T00:59:24.343628Z"
    },
    "papermill": {
     "duration": 2.542435,
     "end_time": "2020-12-20T00:59:24.343779",
     "exception": false,
     "start_time": "2020-12-20T00:59:21.801344",
     "status": "completed"
    },
    "tags": []
   },
   "outputs": [
    {
     "name": "stderr",
     "output_type": "stream",
     "text": [
      "C:\\Users\\Admin\\Anaconda3\\lib\\site-packages\\sklearn\\preprocessing\\data.py:334: DataConversionWarning: Data with input dtype int64 were all converted to float64 by MinMaxScaler.\n",
      "  return self.partial_fit(X, y)\n"
     ]
    },
    {
     "name": "stdout",
     "output_type": "stream",
     "text": [
      "Pipeline(memory=None,\n",
      "     steps=[('minmaxscaler', MinMaxScaler(copy=True, feature_range=(0, 1))), ('logisticregression', LogisticRegression(C=1.2, class_weight=None, dual=False, fit_intercept=True,\n",
      "          intercept_scaling=1, max_iter=100, multi_class='warn',\n",
      "          n_jobs=None, penalty='l2', random_state=None, solver='warn',\n",
      "          tol=0.0001, verbose=0, warm_start=False))])\n",
      "\n",
      "The mean accuracy using Logistic Regression is:  0.7908611599297012\n"
     ]
    }
   ],
   "source": [
    "pipe = make_pipeline(MinMaxScaler(),LogisticRegression())\n",
    "grid_param = [\n",
    "                {\n",
    "                    'logisticregression': [LogisticRegression()],\n",
    "                    'logisticregression__C': [0.8,1,1.2]\n",
    "                }\n",
    "]\n",
    "\n",
    "# create a gridsearch of the pipeline, the fit the best model\n",
    "gridsearch = GridSearchCV(pipe, grid_param, cv=5, verbose=0,n_jobs=-1) # Fit grid search\n",
    "best_model = gridsearch.fit(X_train,y_train)\n",
    "\n",
    "print(best_model.best_estimator_)\n",
    "print('\\nThe mean accuracy using Logistic Regression is: ',best_model.score(X_test,y_test))"
   ]
  },
  {
   "cell_type": "markdown",
   "metadata": {
    "papermill": {
     "duration": 0.072594,
     "end_time": "2020-12-20T00:59:24.488796",
     "exception": false,
     "start_time": "2020-12-20T00:59:24.416202",
     "status": "completed"
    },
    "tags": []
   },
   "source": [
    "## SVM"
   ]
  },
  {
   "cell_type": "code",
   "execution_count": 165,
   "metadata": {
    "execution": {
     "iopub.execute_input": "2020-12-20T00:59:24.644978Z",
     "iopub.status.busy": "2020-12-20T00:59:24.643855Z",
     "iopub.status.idle": "2020-12-20T01:01:20.142522Z",
     "shell.execute_reply": "2020-12-20T01:01:20.143444Z"
    },
    "papermill": {
     "duration": 115.581385,
     "end_time": "2020-12-20T01:01:20.143698",
     "exception": false,
     "start_time": "2020-12-20T00:59:24.562313",
     "status": "completed"
    },
    "tags": []
   },
   "outputs": [
    {
     "name": "stdout",
     "output_type": "stream",
     "text": [
      "Pipeline(memory=None,\n",
      "     steps=[('svc', SVC(C=1.0, cache_size=200, class_weight=None, coef0=0.0,\n",
      "  decision_function_shape='ovr', degree=3, gamma='auto_deprecated',\n",
      "  kernel='linear', max_iter=-1, probability=False, random_state=None,\n",
      "  shrinking=True, tol=0.001, verbose=False))])\n",
      "\n",
      "The mean accuracy using SVM is:  0.9543057996485061\n"
     ]
    }
   ],
   "source": [
    "pipe = make_pipeline(SVC())\n",
    "grid_param = [\n",
    "                {\n",
    "                    'svc': [SVC()],\n",
    "                    'svc__kernel': ['linear','rbf']\n",
    "                }\n",
    "]\n",
    "\n",
    "# create a gridsearch of the pipeline, the fit the best model\n",
    "gridsearch = GridSearchCV(pipe, grid_param, cv=5, verbose=0,n_jobs=-1) # Fit grid search\n",
    "best_model = gridsearch.fit(X_train,y_train)\n",
    "\n",
    "print(best_model.best_estimator_)\n",
    "print('\\nThe mean accuracy using SVM is: ',best_model.score(X_test,y_test))"
   ]
  },
  {
   "cell_type": "markdown",
   "metadata": {
    "papermill": {
     "duration": 0.073102,
     "end_time": "2020-12-20T01:01:20.289512",
     "exception": false,
     "start_time": "2020-12-20T01:01:20.216410",
     "status": "completed"
    },
    "tags": []
   },
   "source": [
    "## Decision Tree"
   ]
  },
  {
   "cell_type": "code",
   "execution_count": 166,
   "metadata": {
    "execution": {
     "iopub.execute_input": "2020-12-20T01:01:20.445820Z",
     "iopub.status.busy": "2020-12-20T01:01:20.444728Z",
     "iopub.status.idle": "2020-12-20T01:01:21.360118Z",
     "shell.execute_reply": "2020-12-20T01:01:21.359195Z"
    },
    "papermill": {
     "duration": 0.998186,
     "end_time": "2020-12-20T01:01:21.360266",
     "exception": false,
     "start_time": "2020-12-20T01:01:20.362080",
     "status": "completed"
    },
    "tags": []
   },
   "outputs": [
    {
     "name": "stdout",
     "output_type": "stream",
     "text": [
      "Pipeline(memory=None,\n",
      "     steps=[('decisiontreeclassifier', DecisionTreeClassifier(class_weight=None, criterion='gini', max_depth=None,\n",
      "            max_features=None, max_leaf_nodes=None,\n",
      "            min_impurity_decrease=0.0, min_impurity_split=None,\n",
      "            min_samples_leaf=1, min_samples_split=2,\n",
      "            min_weight_fraction_leaf=0.0, presort=False, random_state=None,\n",
      "            splitter='best'))])\n",
      "\n",
      "The mean accuracy using Decision Tree is:  0.8383128295254832\n"
     ]
    }
   ],
   "source": [
    "pipe = make_pipeline(DecisionTreeClassifier())\n",
    "grid_param = [\n",
    "                {\n",
    "                    'decisiontreeclassifier': [DecisionTreeClassifier()],\n",
    "                    'decisiontreeclassifier__splitter': ['best','random'],\n",
    "                    'decisiontreeclassifier__min_samples_split': range(2,20)\n",
    "                }\n",
    "]\n",
    "\n",
    "# create a gridsearch of the pipeline, the fit the best model\n",
    "gridsearch = GridSearchCV(pipe, grid_param, cv=5, verbose=0,n_jobs=-1) # Fit grid search\n",
    "best_model = gridsearch.fit(X_train,y_train)\n",
    "\n",
    "print(best_model.best_estimator_)\n",
    "print('\\nThe mean accuracy using Decision Tree is: ',best_model.score(X_test,y_test))"
   ]
  },
  {
   "cell_type": "markdown",
   "metadata": {
    "papermill": {
     "duration": 0.073255,
     "end_time": "2020-12-20T01:01:21.507048",
     "exception": false,
     "start_time": "2020-12-20T01:01:21.433793",
     "status": "completed"
    },
    "tags": []
   },
   "source": [
    "## Random Forest"
   ]
  },
  {
   "cell_type": "code",
   "execution_count": 167,
   "metadata": {
    "execution": {
     "iopub.execute_input": "2020-12-20T01:01:21.665623Z",
     "iopub.status.busy": "2020-12-20T01:01:21.664874Z",
     "iopub.status.idle": "2020-12-20T01:01:50.917197Z",
     "shell.execute_reply": "2020-12-20T01:01:50.916511Z"
    },
    "papermill": {
     "duration": 29.335157,
     "end_time": "2020-12-20T01:01:50.917311",
     "exception": false,
     "start_time": "2020-12-20T01:01:21.582154",
     "status": "completed"
    },
    "tags": []
   },
   "outputs": [
    {
     "name": "stdout",
     "output_type": "stream",
     "text": [
      "Pipeline(memory=None,\n",
      "     steps=[('randomforestclassifier', RandomForestClassifier(bootstrap=True, class_weight=None, criterion='gini',\n",
      "            max_depth=None, max_features='auto', max_leaf_nodes=None,\n",
      "            min_impurity_decrease=0.0, min_impurity_split=None,\n",
      "            min_samples_leaf=1, min_samples_split=7,\n",
      "            min_weight_fraction_leaf=0.0, n_estimators=46, n_jobs=None,\n",
      "            oob_score=False, random_state=None, verbose=0,\n",
      "            warm_start=False))])\n",
      "\n",
      "The mean accuracy using Random Forest is:  0.8945518453427065\n"
     ]
    }
   ],
   "source": [
    "pipe = make_pipeline(RandomForestClassifier())\n",
    "grid_param = [\n",
    "                {\n",
    "                    'randomforestclassifier': [RandomForestClassifier()],\n",
    "                    'randomforestclassifier__n_estimators': range(11,51,5),\n",
    "                    'randomforestclassifier__min_samples_split': range(2,20)\n",
    "                }\n",
    "]\n",
    "\n",
    "# create a gridsearch of the pipeline, the fit the best model\n",
    "gridsearch = GridSearchCV(pipe, grid_param, cv=5, verbose=0,n_jobs=-1) # Fit grid search\n",
    "best_model = gridsearch.fit(X_train,y_train)\n",
    "\n",
    "print(best_model.best_estimator_)\n",
    "print('\\nThe mean accuracy using Random Forest is: ',best_model.score(X_test,y_test))"
   ]
  },
  {
   "cell_type": "markdown",
   "metadata": {
    "papermill": {
     "duration": 0.073108,
     "end_time": "2020-12-20T01:01:51.064681",
     "exception": false,
     "start_time": "2020-12-20T01:01:50.991573",
     "status": "completed"
    },
    "tags": []
   },
   "source": [
    "### We can see that SVM gives us the highest accuracy"
   ]
  },
  {
   "cell_type": "code",
   "execution_count": 168,
   "metadata": {
    "execution": {
     "iopub.execute_input": "2020-12-20T01:01:51.218436Z",
     "iopub.status.busy": "2020-12-20T01:01:51.217660Z",
     "iopub.status.idle": "2020-12-20T01:02:15.359942Z",
     "shell.execute_reply": "2020-12-20T01:02:15.359261Z"
    },
    "papermill": {
     "duration": 24.222224,
     "end_time": "2020-12-20T01:02:15.360060",
     "exception": false,
     "start_time": "2020-12-20T01:01:51.137836",
     "status": "completed"
    },
    "tags": []
   },
   "outputs": [
    {
     "data": {
      "text/plain": [
       "SVC(C=1.0, cache_size=200, class_weight=None, coef0=0.0,\n",
       "  decision_function_shape='ovr', degree=3, gamma='auto_deprecated',\n",
       "  kernel='linear', max_iter=-1, probability=False, random_state=None,\n",
       "  shrinking=True, tol=0.001, verbose=False)"
      ]
     },
     "execution_count": 168,
     "metadata": {},
     "output_type": "execute_result"
    }
   ],
   "source": [
    "svm_model = SVC(kernel='linear')\n",
    "svm_model.fit(X_train,y_train)"
   ]
  },
  {
   "cell_type": "code",
   "execution_count": 169,
   "metadata": {
    "execution": {
     "iopub.execute_input": "2020-12-20T01:02:15.515793Z",
     "iopub.status.busy": "2020-12-20T01:02:15.515109Z",
     "iopub.status.idle": "2020-12-20T01:02:15.517875Z",
     "shell.execute_reply": "2020-12-20T01:02:15.518368Z"
    },
    "papermill": {
     "duration": 0.084134,
     "end_time": "2020-12-20T01:02:15.518515",
     "exception": false,
     "start_time": "2020-12-20T01:02:15.434381",
     "status": "completed"
    },
    "tags": []
   },
   "outputs": [],
   "source": [
    "y_predicted = svm_model.predict(X_test)"
   ]
  },
  {
   "cell_type": "code",
   "execution_count": 170,
   "metadata": {
    "execution": {
     "iopub.execute_input": "2020-12-20T01:02:15.673352Z",
     "iopub.status.busy": "2020-12-20T01:02:15.672720Z",
     "iopub.status.idle": "2020-12-20T01:02:15.681069Z",
     "shell.execute_reply": "2020-12-20T01:02:15.680539Z"
    },
    "papermill": {
     "duration": 0.086825,
     "end_time": "2020-12-20T01:02:15.681185",
     "exception": false,
     "start_time": "2020-12-20T01:02:15.594360",
     "status": "completed"
    },
    "tags": []
   },
   "outputs": [
    {
     "data": {
      "text/plain": [
       "array([[136,   3,   0,   0],\n",
       "       [  1, 134,   2,   0],\n",
       "       [  0,   7, 139,   6],\n",
       "       [  0,   0,   7, 134]], dtype=int64)"
      ]
     },
     "execution_count": 170,
     "metadata": {},
     "output_type": "execute_result"
    }
   ],
   "source": [
    "confusion_matrix_result = confusion_matrix(y_test,y_predicted)\n",
    "confusion_matrix_result"
   ]
  },
  {
   "cell_type": "code",
   "execution_count": 171,
   "metadata": {
    "execution": {
     "iopub.execute_input": "2020-12-20T01:02:15.847182Z",
     "iopub.status.busy": "2020-12-20T01:02:15.845326Z",
     "iopub.status.idle": "2020-12-20T01:02:16.047903Z",
     "shell.execute_reply": "2020-12-20T01:02:16.047289Z"
    },
    "papermill": {
     "duration": 0.29196,
     "end_time": "2020-12-20T01:02:16.048022",
     "exception": false,
     "start_time": "2020-12-20T01:02:15.756062",
     "status": "completed"
    },
    "tags": []
   },
   "outputs": [
    {
     "data": {
      "image/png": "[encoded data removed]",
      "text/plain": [
       "<Figure size 432x288 with 2 Axes>"
      ]
     },
     "metadata": {
      "needs_background": "light"
     },
     "output_type": "display_data"
    }
   ],
   "source": [
    "sns.heatmap(confusion_matrix_result,annot=True,cmap='Reds',fmt='.0f')\n",
    "plt.show()"
   ]
  },
  {
   "cell_type": "code",
   "execution_count": 172,
   "metadata": {
    "execution": {
     "iopub.execute_input": "2020-12-20T01:02:16.206796Z",
     "iopub.status.busy": "2020-12-20T01:02:16.205630Z",
     "iopub.status.idle": "2020-12-20T01:02:16.210250Z",
     "shell.execute_reply": "2020-12-20T01:02:16.210728Z"
    },
    "papermill": {
     "duration": 0.085422,
     "end_time": "2020-12-20T01:02:16.210870",
     "exception": false,
     "start_time": "2020-12-20T01:02:16.125448",
     "status": "completed"
    },
    "tags": []
   },
   "outputs": [
    {
     "name": "stdout",
     "output_type": "stream",
     "text": [
      "SVM accuracy score:  0.9543057996485061\n"
     ]
    }
   ],
   "source": [
    "print('SVM accuracy score: ',accuracy_score(y_test,y_predicted))"
   ]
  },
  {
   "cell_type": "code",
   "execution_count": 173,
   "metadata": {
    "execution": {
     "iopub.execute_input": "2020-12-20T01:02:16.368161Z",
     "iopub.status.busy": "2020-12-20T01:02:16.367117Z",
     "iopub.status.idle": "2020-12-20T01:02:16.377840Z",
     "shell.execute_reply": "2020-12-20T01:02:16.376786Z"
    },
    "papermill": {
     "duration": 0.091178,
     "end_time": "2020-12-20T01:02:16.378028",
     "exception": false,
     "start_time": "2020-12-20T01:02:16.286850",
     "status": "completed"
    },
    "scrolled": true,
    "tags": []
   },
   "outputs": [
    {
     "name": "stdout",
     "output_type": "stream",
     "text": [
      "              precision    recall  f1-score   support\n",
      "\n",
      "           0       0.99      0.98      0.99       139\n",
      "           1       0.93      0.98      0.95       137\n",
      "           2       0.94      0.91      0.93       152\n",
      "           3       0.96      0.95      0.95       141\n",
      "\n",
      "   micro avg       0.95      0.95      0.95       569\n",
      "   macro avg       0.95      0.96      0.95       569\n",
      "weighted avg       0.95      0.95      0.95       569\n",
      "\n"
     ]
    }
   ],
   "source": [
    "classification_report_result = classification_report(y_test,y_predicted)\n",
    "print(classification_report_result)"
   ]
  },
  {
   "cell_type": "markdown",
   "metadata": {},
   "source": [
    "### Saving the model"
   ]
  },
  {
   "cell_type": "code",
   "execution_count": 174,
   "metadata": {},
   "outputs": [],
   "source": [
    "import pickle"
   ]
  },
  {
   "cell_type": "code",
   "execution_count": 175,
   "metadata": {},
   "outputs": [],
   "source": [
    "with open('mobile_price_model.pickle','wb') as f:\n",
    "    pickle.dump(svm_model,f)"
   ]
  },
  {
   "cell_type": "code",
   "execution_count": 176,
   "metadata": {},
   "outputs": [],
   "source": [
    "# try to load the model\n",
    "with open('mobile_price_model.pickle','rb') as file:\n",
    "    model = pickle.load(file)"
   ]
  },
  {
   "cell_type": "code",
   "execution_count": 177,
   "metadata": {},
   "outputs": [
    {
     "data": {
      "text/plain": [
       "array([3], dtype=int64)"
      ]
     },
     "execution_count": 177,
     "metadata": {},
     "output_type": "execute_result"
    }
   ],
   "source": [
    "# ram(megabytes), battery power, px_width, px_height, internal memory in gigabytes\n",
    "\n",
    "model.predict([[3000,2500,1260,720,8]])"
   ]
  }
 ],
 "metadata": {
  "kernelspec": {
   "display_name": "Python 3",
   "language": "python",
   "name": "python3"
  },
  "language_info": {
   "codemirror_mode": {
    "name": "ipython",
    "version": 3
   },
   "file_extension": ".py",
   "mimetype": "text/x-python",
   "name": "python",
   "nbconvert_exporter": "python",
   "pygments_lexer": "ipython3",
   "version": "3.7.3"
  },
  "papermill": {
   "duration": 195.189993,
   "end_time": "2020-12-20T01:02:16.575214",
   "environment_variables": {},
   "exception": null,
   "input_path": "__notebook__.ipynb",
   "output_path": "__notebook__.ipynb",
   "parameters": {},
   "start_time": "2020-12-20T00:59:01.385221",
   "version": "2.1.0"
  }
 },
 "nbformat": 4,
 "nbformat_minor": 4
}
